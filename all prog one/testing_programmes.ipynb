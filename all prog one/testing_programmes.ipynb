{
 "cells": [
  {
   "cell_type": "code",
   "execution_count": null,
   "metadata": {},
   "outputs": [],
   "source": [
    "def get_formatted_name(first,last):\n",
    "    full_name = first + ' ' + last\n",
    "    return full_name.title()\n",
    "print(\"entet 'q' any time to quit\")\n",
    "while True:\n",
    "        first=input(\"\\nplease  give a first name:\")\n",
    "        if first== 'q':\n",
    "            break\n",
    "        last = input(\"\\nplease give a last name:\")\n",
    "        if last == 'q':\n",
    "            break\n",
    "        formatted_name = get_formatted_name(first,last)\n",
    "        print(\"\\t Neatly formatted name: \" + formatted_name + \".\")"
   ]
  },
  {
   "cell_type": "code",
   "execution_count": 17,
   "metadata": {},
   "outputs": [
    {
     "name": "stderr",
     "output_type": "stream",
     "text": [
      "E\n",
      "======================================================================\n",
      "ERROR: C:\\Users\\HASSAN\\AppData\\Roaming\\jupyter\\runtime\\kernel-4052efa6-f548-4f96-9cc3-22d7e3fc24ac (unittest.loader._FailedTest)\n",
      "----------------------------------------------------------------------\n",
      "AttributeError: module '__main__' has no attribute 'C:\\Users\\HASSAN\\AppData\\Roaming\\jupyter\\runtime\\kernel-4052efa6-f548-4f96-9cc3-22d7e3fc24ac'\n",
      "\n",
      "----------------------------------------------------------------------\n",
      "Ran 1 test in 0.002s\n",
      "\n",
      "FAILED (errors=1)\n"
     ]
    },
    {
     "ename": "SystemExit",
     "evalue": "True",
     "output_type": "error",
     "traceback": [
      "An exception has occurred, use %tb to see the full traceback.\n",
      "\u001b[1;31mSystemExit\u001b[0m\u001b[1;31m:\u001b[0m True\n"
     ]
    },
    {
     "name": "stderr",
     "output_type": "stream",
     "text": [
      "C:\\Users\\HASSAN\\Anaconda3\\lib\\site-packages\\IPython\\core\\interactiveshell.py:3334: UserWarning: To exit: use 'exit', 'quit', or Ctrl-D.\n",
      "  warn(\"To exit: use 'exit', 'quit', or Ctrl-D.\", stacklevel=1)\n"
     ]
    }
   ],
   "source": [
    "#unit test and test cases\n",
    "#passing a test\n",
    "import unittest\n",
    "from function_name import get_formatted_name\n",
    "class NameTestCase(unittest.TestCase):\n",
    "    def Test_first_last_name(self):\n",
    "        formatted_name=get_formatted_name('rahmio','rahman')\n",
    "        self.assertEqual(formatted_name,'Rahmio Rahman')\n",
    "unittest.main()"
   ]
  },
  {
   "cell_type": "code",
   "execution_count": null,
   "metadata": {},
   "outputs": [],
   "source": []
  },
  {
   "cell_type": "code",
   "execution_count": null,
   "metadata": {},
   "outputs": [],
   "source": []
  }
 ],
 "metadata": {
  "kernelspec": {
   "display_name": "Python 3",
   "language": "python",
   "name": "python3"
  },
  "language_info": {
   "codemirror_mode": {
    "name": "ipython",
    "version": 3
   },
   "file_extension": ".py",
   "mimetype": "text/x-python",
   "name": "python",
   "nbconvert_exporter": "python",
   "pygments_lexer": "ipython3",
   "version": "3.7.4"
  }
 },
 "nbformat": 4,
 "nbformat_minor": 2
}
