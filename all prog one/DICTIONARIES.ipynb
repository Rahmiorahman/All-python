{
 "cells": [
  {
   "cell_type": "code",
   "execution_count": 4,
   "metadata": {},
   "outputs": [],
   "source": [
    "d = {}\n",
    "# [geoerge=32;Tom=24]"
   ]
  },
  {
   "cell_type": "code",
   "execution_count": 5,
   "metadata": {},
   "outputs": [],
   "source": [
    "d['George']=32\n",
    "d['tom']= 24\n",
    "d['alice']=12"
   ]
  },
  {
   "cell_type": "code",
   "execution_count": 6,
   "metadata": {},
   "outputs": [
    {
     "data": {
      "text/plain": [
       "32"
      ]
     },
     "execution_count": 6,
     "metadata": {},
     "output_type": "execute_result"
    }
   ],
   "source": [
    "d['George']"
   ]
  },
  {
   "cell_type": "code",
   "execution_count": 7,
   "metadata": {},
   "outputs": [
    {
     "data": {
      "text/plain": [
       "24"
      ]
     },
     "execution_count": 7,
     "metadata": {},
     "output_type": "execute_result"
    }
   ],
   "source": [
    "d['tom']\n"
   ]
  },
  {
   "cell_type": "code",
   "execution_count": 13,
   "metadata": {},
   "outputs": [
    {
     "data": {
      "text/plain": [
       "21"
      ]
     },
     "execution_count": 13,
     "metadata": {},
     "output_type": "execute_result"
    }
   ],
   "source": [
    "s = {}\n",
    "s['rahmio']=21\n",
    "\n",
    "s['rahmio']"
   ]
  },
  {
   "cell_type": "code",
   "execution_count": 19,
   "metadata": {},
   "outputs": [
    {
     "name": "stdout",
     "output_type": "stream",
     "text": [
      "100\n"
     ]
    }
   ],
   "source": [
    "#keys are commonly strings and numbers\n",
    "d[10] = 100\n",
    "print(d[10])"
   ]
  },
  {
   "cell_type": "code",
   "execution_count": 10,
   "metadata": {},
   "outputs": [
    {
     "name": "stdout",
     "output_type": "stream",
     "text": [
      "key\n",
      "George\n",
      "value\n",
      "32\n",
      "\n",
      "key\n",
      "tom\n",
      "value\n",
      "24\n",
      "\n",
      "key\n",
      "alice\n",
      "value\n",
      "12\n",
      "\n"
     ]
    }
   ],
   "source": [
    "for key,value in d.items():\n",
    "    print(\"key\")\n",
    "    print(key)\n",
    "    print(\"value\")\n",
    "    print(value)\n",
    "    print(' ')"
   ]
  },
  {
   "cell_type": "code",
   "execution_count": 9,
   "metadata": {},
   "outputs": [
    {
     "name": "stdout",
     "output_type": "stream",
     "text": [
      "green\n",
      "3\n",
      "{'colour': 'green', 'points': 3}\n"
     ]
    }
   ],
   "source": [
    "#a dictionary in python is a colletion ofc key-value pair\n",
    "alien_0={'colour':'green','points':3}\n",
    "print(alien_0['colour'])\n",
    "print(alien_0['points'])\n"
   ]
  },
  {
   "cell_type": "code",
   "execution_count": 7,
   "metadata": {},
   "outputs": [
    {
     "name": "stdout",
     "output_type": "stream",
     "text": [
      "You just earned 3 points\n"
     ]
    }
   ],
   "source": [
    "alien_0={'colour':'green','points':3}\n",
    "new_points = alien_0['points']\n",
    "print(\"You just earned \" + str(new_points) + \" points\")"
   ]
  },
  {
   "cell_type": "code",
   "execution_count": 8,
   "metadata": {},
   "outputs": [
    {
     "name": "stdout",
     "output_type": "stream",
     "text": [
      "{'colour': 'green', 'points': 3}\n",
      "{'colour': 'green', 'points': 3, 'x-coordinates': 0, 'y-coordinates': 25}\n"
     ]
    }
   ],
   "source": [
    "#adding new key-value pair value\n",
    "alien_0={'colour':'green','points':3}\n",
    "print(alien_0)\n",
    "alien_0['x-coordinates'] = 0\n",
    "alien_0['y-coordinates'] = 25\n",
    "print(alien_0)\n"
   ]
  },
  {
   "cell_type": "code",
   "execution_count": 17,
   "metadata": {},
   "outputs": [
    {
     "name": "stdout",
     "output_type": "stream",
     "text": [
      "{'colour': 'green', 'points': 8}\n"
     ]
    },
    {
     "data": {
      "text/plain": [
       "'green'"
      ]
     },
     "execution_count": 17,
     "metadata": {},
     "output_type": "execute_result"
    }
   ],
   "source": [
    "#starting with an empty dictionary\n",
    "alien_0 = {}\n",
    "alien_0 ['colour']='green'\n",
    "alien_0 ['points'] = 8\n",
    "print(alien_0)\n",
    "alien_0['colour']\n"
   ]
  },
  {
   "cell_type": "code",
   "execution_count": 21,
   "metadata": {},
   "outputs": [
    {
     "name": "stdout",
     "output_type": "stream",
     "text": [
      "The alien is green.\n",
      "The alien_0 is now red\n"
     ]
    }
   ],
   "source": [
    "#modifying values in a dictionary\n",
    "alien_0 = {'colour':'green'}\n",
    "print(\"The alien is \" + alien_0['colour']+ \".\")\n",
    "alien_0['colour'] = 'red'\n",
    "print(\"The alien_0 is now \"+ alien_0['colour'] )"
   ]
  },
  {
   "cell_type": "code",
   "execution_count": 17,
   "metadata": {},
   "outputs": [
    {
     "name": "stdout",
     "output_type": "stream",
     "text": [
      "original position:0\n",
      "new position:2\n"
     ]
    }
   ],
   "source": [
    "alien_0 = {'x_position':0,'y_position':25,'speed':'medium'}\n",
    "print(\"original position:\"+ str(alien_0['x_position']))\n",
    "\n",
    "#move the alien to the right\n",
    "#determine how far to move the alien based on it current position\n",
    "if alien_0['speed']=='slow':\n",
    "    x_increment = 1\n",
    "elif alien_0['speed']=='medium':\n",
    "    x_increment = 2\n",
    "    \n",
    "    #the fast alien\n",
    "else:\n",
    "    x_increment=3\n",
    "    \n",
    "#The new position is  old position plus the increment    \n",
    "alien_0['x_position'] = alien_0['x_position'] + x_increment\n",
    "print(\"new position:\" + str(alien_0['x_position']))      "
   ]
  },
  {
   "cell_type": "code",
   "execution_count": 22,
   "metadata": {},
   "outputs": [
    {
     "name": "stdout",
     "output_type": "stream",
     "text": [
      "{'colour': 'green', 'points': 3}\n",
      "{'colour': 'green'}\n"
     ]
    }
   ],
   "source": [
    "#removing key-value pairs\n",
    "alien_0={'colour':'green','points':3}\n",
    "print(alien_0)\n",
    "del alien_0['points']\n",
    "print(alien_0)\n",
    "#The deleted key-value is deleted permanently"
   ]
  },
  {
   "cell_type": "code",
   "execution_count": 64,
   "metadata": {},
   "outputs": [
    {
     "name": "stdout",
     "output_type": "stream",
     "text": [
      "Lewis favourite_languages is Ruby.\n",
      "ruby\n"
     ]
    },
    {
     "data": {
      "text/plain": [
       "'ruby'"
      ]
     },
     "execution_count": 64,
     "metadata": {},
     "output_type": "execute_result"
    }
   ],
   "source": [
    "# A DICTIONARY OF SIMILAR OBJECT\n",
    "favourite_languages = {'jen': 'python',\n",
    "                     'Lewis':'ruby',\n",
    "                     \"joh\":'fotran',\n",
    "                     'sheks':'c'}\n",
    "print(\"Lewis favourite_languages is \" + favourite_languages['Lewis'].title() + \".\")\n",
    "print(favourite_languages['Lewis'])\n",
    "favourite_language['Lewis']\n"
   ]
  },
  {
   "cell_type": "code",
   "execution_count": 63,
   "metadata": {},
   "outputs": [
    {
     "name": "stdout",
     "output_type": "stream",
     "text": [
      "\n",
      "key :username\n",
      "value:rahmiorahman\n",
      "\n",
      "key :first\n",
      "value:rahmio\n",
      "\n",
      "key :last\n",
      "value:rahman\n"
     ]
    }
   ],
   "source": [
    "#LOOPING THROUGH A DICTIONARY\n",
    "#LOOPING THROUGH ALL KEY-VALUE PAIR\n",
    "user_0 = {'username':'rahmiorahman',\n",
    "         'first':'rahmio',\n",
    "         'last':'rahman'}\n",
    "for key,value in user_0.items():\n",
    "    print(\"\\nkey :\"+ key)\n",
    "    print(\"value:\" + value)"
   ]
  },
  {
   "cell_type": "code",
   "execution_count": 49,
   "metadata": {},
   "outputs": [
    {
     "name": "stdout",
     "output_type": "stream",
     "text": [
      "Jen's favourite language is Python.\n",
      "Lewis's favourite language is Ruby.\n",
      "Joh's favourite language is Fotran.\n",
      "Sheks's favourite language is C.\n"
     ]
    }
   ],
   "source": [
    "for name,language in favourite_languages.items():\n",
    "    print(name.title() + \"'s favourite language is \"+ language.title() + \".\")"
   ]
  },
  {
   "cell_type": "code",
   "execution_count": 52,
   "metadata": {},
   "outputs": [
    {
     "name": "stdout",
     "output_type": "stream",
     "text": [
      "Jen\n",
      "Lewis\n",
      "Joh\n",
      "Sheks\n"
     ]
    }
   ],
   "source": [
    "#looping through  all the keys in a dictionary\n",
    "for names in favourite_languages:\n",
    "    print(names.title())"
   ]
  },
  {
   "cell_type": "code",
   "execution_count": 10,
   "metadata": {},
   "outputs": [
    {
     "name": "stdout",
     "output_type": "stream",
     "text": [
      "Jen\n",
      "Lewis\n",
      "Joh\n",
      "Sheks\n"
     ]
    }
   ],
   "source": [
    "favourite_languages = {'jen': 'python',\n",
    "                     'Lewis':'ruby',\n",
    "                     \"joh\":'fotran',\n",
    "                     'sheks':'c'}\n",
    "friends = ['Lewis','joh']\n",
    "for names in favourite_languages.keys():\n",
    "    print(names.title())\n",
    "if name in friends:\n",
    "    print(\" Hi \" + names.title()+ \"i see ur favourite language is\" + favourite_languages[names].title() + \"!\")\n"
   ]
  },
  {
   "cell_type": "code",
   "execution_count": 71,
   "metadata": {},
   "outputs": [
    {
     "name": "stdout",
     "output_type": "stream",
     "text": [
      "erin,please take the poll\n"
     ]
    }
   ],
   "source": [
    "if 'erin' not in favourite_languages.keys():\n",
    "    print(\"erin,please take the poll\")"
   ]
  },
  {
   "cell_type": "code",
   "execution_count": 84,
   "metadata": {},
   "outputs": [
    {
     "name": "stdout",
     "output_type": "stream",
     "text": [
      "Jen thank you for taking the polls.\n",
      "Joh thank you for taking the polls.\n",
      "Lewis thank you for taking the polls.\n",
      "Sheks thank you for taking the polls.\n"
     ]
    }
   ],
   "source": [
    "#looping through a dictonary's key in order\n",
    "favourite_languages = {'lewis': 'python',\n",
    "                     'jen':'ruby',\n",
    "                     \"joh\":'fotran',\n",
    "                     'sheks':'python'}\n",
    "for name in sorted(favourite_languages.keys()):\n",
    "    print(name.title()+ \" thank you for taking the polls\"+ \".\")"
   ]
  },
  {
   "cell_type": "code",
   "execution_count": 85,
   "metadata": {},
   "outputs": [
    {
     "name": "stdout",
     "output_type": "stream",
     "text": [
      "the following language have been mentioned:\n",
      "Python\n",
      "Ruby\n",
      "Fotran\n",
      "Python\n"
     ]
    }
   ],
   "source": [
    "#looping all values in  dictionary\n",
    "print(\"the following language have been mentioned:\")\n",
    "for language in favourite_languages.values():\n",
    "    print(language.title())"
   ]
  },
  {
   "cell_type": "code",
   "execution_count": 88,
   "metadata": {},
   "outputs": [
    {
     "name": "stdout",
     "output_type": "stream",
     "text": [
      "Ruby\n",
      "Python\n",
      "Fotran\n"
     ]
    }
   ],
   "source": [
    "#use of a set\n",
    "for language in set(favourite_languages.values()):\n",
    "    print(language.title())"
   ]
  },
  {
   "cell_type": "code",
   "execution_count": null,
   "metadata": {},
   "outputs": [],
   "source": [
    "#EXERCISE PAGE 108\n",
    "\n"
   ]
  },
  {
   "cell_type": "code",
   "execution_count": 89,
   "metadata": {},
   "outputs": [
    {
     "name": "stdout",
     "output_type": "stream",
     "text": [
      "{'colour': 'green', 'points': 5}\n",
      "{'colour': 'yellow', 'points': 10}\n",
      "{'colour': 'red', 'points': 15}\n"
     ]
    }
   ],
   "source": [
    "#NESTING OF DICTIONARY\n",
    "#A LIST OF DICTOINARIES\n",
    "alien_0 = {'colour': 'green','points':5}\n",
    "alien_1 = {'colour': 'yellow','points':10}\n",
    "alien_2 = {'colour': 'red','points' :15 }\n",
    "aliens = [alien_0,alien_1,alien_2]\n",
    "for alien in aliens:\n",
    "    print(alien)"
   ]
  },
  {
   "cell_type": "code",
   "execution_count": 12,
   "metadata": {},
   "outputs": [
    {
     "name": "stdout",
     "output_type": "stream",
     "text": [
      "{'colour': 'green', 'points': 5, 'speed': 'slow'}\n",
      "{'colour': 'green', 'points': 5, 'speed': 'slow'}\n",
      "{'colour': 'green', 'points': 5, 'speed': 'slow'}\n",
      "{'colour': 'green', 'points': 5, 'speed': 'slow'}\n",
      "{'colour': 'green', 'points': 5, 'speed': 'slow'}\n",
      "...\n",
      "Total number of aliens:30\n"
     ]
    }
   ],
   "source": [
    "#make an empty list for an alien\n",
    "aliens=[]\n",
    "\n",
    "#make 30 green aliens\n",
    "for alien_number in range(30):\n",
    "    new_alien = {'colour':'green','points':5,'speed':'slow'}\n",
    "    aliens.append(new_alien)\n",
    "    \n",
    "    #show the first 5 aliens\n",
    "for alien in aliens[:5]:\n",
    "    print(alien)\n",
    "print(\"...\")\n",
    "    #show  how many aliens have been created\n",
    "print(\"Total number of aliens:\" + str(len(aliens)))    "
   ]
  },
  {
   "cell_type": "code",
   "execution_count": 1,
   "metadata": {},
   "outputs": [
    {
     "name": "stdout",
     "output_type": "stream",
     "text": [
      "{'colour': 'yellow', 'points': 10, 'speed': 'medium'}\n",
      "{'colour': 'yellow', 'points': 10, 'speed': 'medium'}\n",
      "{'colour': 'yellow', 'points': 10, 'speed': 'medium'}\n",
      "{'colour': 'green', 'points': 5, 'speed': 'slow'}\n",
      "{'colour': 'green', 'points': 5, 'speed': 'slow'}\n",
      "...\n",
      "Total number of aliens:30\n"
     ]
    }
   ],
   "source": [
    "aliens=[]\n",
    "\n",
    "#make 30 green aliens\n",
    "for alien_number in range(0,30):\n",
    "    new_alien = {'colour':'green','points':5,'speed':'slow'}\n",
    "    aliens.append(new_alien)\n",
    "         \n",
    "for alien in aliens[0:3]:\n",
    "    if alien['colour']=='green':\n",
    "        alien['colour']='yellow'\n",
    "        alien['speed']='medium'\n",
    "        alien['points']=10  #show the first 3 aliens\n",
    "    elif alien['colour'] == 'yellow': \n",
    "        alien['colour'] = 'red'\n",
    "        alien['speed'] = 'fast'\n",
    "        alien['points'] = 15\n",
    "for alien in aliens[:5]:\n",
    "    print(alien)\n",
    "print(\"...\")\n",
    "    #show  how many aliens have been created\n",
    "print(\"Total number of aliens:\" + str(len(aliens)))\n",
    "        "
   ]
  },
  {
   "cell_type": "code",
   "execution_count": 4,
   "metadata": {},
   "outputs": [
    {
     "name": "stdout",
     "output_type": "stream",
     "text": [
      "You order ordered a thick-crust pizza\n",
      "\tmushrooms\n",
      "\textra cheese\n"
     ]
    }
   ],
   "source": [
    "#A LIST IN DICTIONARY\n",
    "\n",
    "#store information about a pizza\n",
    "pizza={'crust':'thick','toppings':['mushrooms','extra cheese']}\n",
    "#summarize the order\n",
    "print(\"You order ordered a \" + pizza['crust'] + \"-crust pizza\")\n",
    "for topping in pizza['toppings']:\n",
    "        print(\"\\t\" + topping )"
   ]
  },
  {
   "cell_type": "code",
   "execution_count": 27,
   "metadata": {},
   "outputs": [
    {
     "name": "stdout",
     "output_type": "stream",
     "text": [
      "\n",
      "Rahul's favourite languages are \n",
      "\tPython\n",
      "\tC\n",
      "\n",
      "Aisha's favourite languages are \n",
      "\tR\n",
      "\n",
      "Lucracia's favourite languages are \n",
      "\tPascal\n",
      "\tFortran\n",
      "\n",
      "Lukas's favourite languages are \n",
      "\tPython\n",
      "\tJava\n",
      "\n",
      "Rahmio's favourite languages are \n",
      "\tJ\n",
      "\tA\n",
      "\tV\n",
      "\tA\n",
      "\tS\n",
      "\tC\n",
      "\tR\n",
      "\tI\n",
      "\tP\n",
      "\tT\n"
     ]
    }
   ],
   "source": [
    "favourite_programme={'rahul':['python','c'],\n",
    "                  'Aisha':['r'],\n",
    "                  'lucracia':['pascal','fortran'],\n",
    "                  'lukas':['python','java'],\n",
    "                   'rahmio':'javascript'}\n",
    "for name,languages in favourite_programme.items():\n",
    "    print('\\n' + name.title() + \"'s favourite languages are \" )\n",
    "    for language in languages:\n",
    "        print(\"\\t\" + language.title())"
   ]
  },
  {
   "cell_type": "code",
   "execution_count": 22,
   "metadata": {},
   "outputs": [
    {
     "name": "stdout",
     "output_type": "stream",
     "text": [
      "\n",
      "Username: aeinstein\n",
      "\t full name: Albert Einstein\n",
      "\t location: Princeton\n",
      "\n",
      "Username: mcurie\n",
      "\t full name: Marie Curie\n",
      "\t location: Paris\n"
     ]
    }
   ],
   "source": [
    "#A DICTIONARY IN DICTIONARY\n",
    "#YOU CAN NEST A DICTIONARY IN A ANOTHER DICTIONARY\n",
    "users = {\n",
    "    'aeinstein':{\n",
    "    'first':'albert',\n",
    "         'last':'einstein',\n",
    "         'location':'princeton',},\n",
    "    'mcurie':{\n",
    "        'first':'marie',\n",
    "        'last':'curie',\n",
    "        'location':'paris'\n",
    "        \n",
    "    },\n",
    "    \n",
    "}\n",
    "\n",
    "for username,user_info in users.items():\n",
    "    print(\"\\nUsername: \" + username)\n",
    "    full_name = user_info['first'] +\" \" + user_info['last']\n",
    "    location = user_info['location']\n",
    "    print(\"\\t full name: \" + full_name.title())\n",
    "    print(\"\\t location: \" + location.title())\n",
    "    "
   ]
  },
  {
   "cell_type": "code",
   "execution_count": null,
   "metadata": {},
   "outputs": [],
   "source": []
  },
  {
   "cell_type": "raw",
   "metadata": {},
   "source": []
  },
  {
   "cell_type": "code",
   "execution_count": 15,
   "metadata": {},
   "outputs": [
    {
     "name": "stdout",
     "output_type": "stream",
     "text": [
      "Diana\n",
      "Juliet\n",
      "Hi Julieti see your favorite sport is Tennis.\n",
      "Mahaj\n",
      "Rahmio\n",
      "Hi Rahmioi see your favorite sport is Football.\n"
     ]
    }
   ],
   "source": [
    "favorite_sport={'diana':'basketball',\n",
    "              'juliet':'tennis',\n",
    "              'mahaj':'cricket',\n",
    "              'rahmio':'football'}\n",
    "friends = ['rahmio','juliet']\n",
    "for name in favorite_sport.keys():\n",
    "    print(name.title())\n",
    "    if name in friends:\n",
    "        print(\"Hi \" + name.title() + \"i see your favorite sport is \"+favorite_sport[name].title()+'.')"
   ]
  },
  {
   "cell_type": "code",
   "execution_count": 16,
   "metadata": {},
   "outputs": [
    {
     "name": "stdout",
     "output_type": "stream",
     "text": [
      "Diana\n",
      "Juliet\n",
      "Mahaj\n",
      "Rahmio\n"
     ]
    }
   ],
   "source": [
    "for name in sorted(favorite_sport.keys()):\n",
    "    print(name.title())"
   ]
  },
  {
   "cell_type": "code",
   "execution_count": null,
   "metadata": {},
   "outputs": [],
   "source": []
  }
 ],
 "metadata": {
  "kernelspec": {
   "display_name": "Python 3",
   "language": "python",
   "name": "python3"
  },
  "language_info": {
   "codemirror_mode": {
    "name": "ipython",
    "version": 3
   },
   "file_extension": ".py",
   "mimetype": "text/x-python",
   "name": "python",
   "nbconvert_exporter": "python",
   "pygments_lexer": "ipython3",
   "version": "3.7.4"
  }
 },
 "nbformat": 4,
 "nbformat_minor": 2
}
