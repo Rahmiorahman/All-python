{
 "cells": [
  {
   "cell_type": "code",
   "execution_count": 1,
   "metadata": {},
   "outputs": [
    {
     "name": "stdout",
     "output_type": "stream",
     "text": [
      "2020 Tesla Model S\n",
      "This car has a 70-Kwh battery\n",
      "This can go approximately 240Miles on a full charge\n"
     ]
    }
   ],
   "source": [
    "class Car():\n",
    "    def __init__(self,make,model,year):\n",
    "        self.make = make\n",
    "        self.model = model\n",
    "        self.year = year\n",
    "        self.odometer_reading = 100\n",
    "    def get_descriptive_name(self):\n",
    "        long_name = str(self.year) +' '+self.make+' '+self.model\n",
    "        return long_name.title()\n",
    "    def read_odometer(self):\n",
    "        print(\"This car has \"+ str(self.odometer_reading) + \" miles on it\")\n",
    "    def update_odometer(self,mileage):\n",
    "        \n",
    "        if mileage>=self.odometer_reading:\n",
    "            self.odometer_reading = mileage\n",
    "        else:\n",
    "             print(\"you can't roll back an odometer\")\n",
    "    def increment_odometer(self,miles):\n",
    "        self.odometer_reading += miles\n",
    "class Battery():\n",
    "    def __init__(self,battery_size=70):\n",
    "        \n",
    "        self.battery_size = battery_size\n",
    "        \n",
    "    def describe_battery(self):\n",
    "        \"\"\"print a ststement decribing the battery size\"\"\"\n",
    "        print(\"This car has a \" + str(self.battery_size)+ \"-Kwh battery\")\n",
    "    def get_range(self):\n",
    "        \"\"\"print a statement about the range this battery provide\"\"\"\n",
    "        if self.battery_size == 70:\n",
    "            range = 240\n",
    "        elif self.battery_size == 85:\n",
    "            range =275\n",
    "        message = \"This can go approximately \" + str(range)\n",
    "        message += \"Miles on a full charge\"\n",
    "        print(message)\n",
    "        \n",
    "class electricCar(Car):  \n",
    "    \"\"\"represent aspect of a car,specific to electric vehicles\"\"\"\n",
    "    def __init__(self,make,model,year):\n",
    "        \"\"\"initialise attributes of the parent class\"\"\"\n",
    "        super().__init__(make,model,year)\n",
    "        self.battery = Battery()\n",
    "my_tesla=electricCar('Tesla','model S',2020)\n",
    "print(my_tesla.get_descriptive_name())\n",
    "my_tesla.battery.describe_battery()        \n",
    "my_tesla.battery.get_range()\n",
    "            "
   ]
  },
  {
   "cell_type": "code",
   "execution_count": null,
   "metadata": {},
   "outputs": [],
   "source": []
  }
 ],
 "metadata": {
  "kernelspec": {
   "display_name": "Python 3",
   "language": "python",
   "name": "python3"
  },
  "language_info": {
   "codemirror_mode": {
    "name": "ipython",
    "version": 3
   },
   "file_extension": ".py",
   "mimetype": "text/x-python",
   "name": "python",
   "nbconvert_exporter": "python",
   "pygments_lexer": "ipython3",
   "version": "3.7.4"
  }
 },
 "nbformat": 4,
 "nbformat_minor": 2
}
