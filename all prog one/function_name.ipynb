{
 "cells": [
  {
   "cell_type": "code",
   "execution_count": 2,
   "metadata": {},
   "outputs": [
    {
     "name": "stdout",
     "output_type": "stream",
     "text": [
      "\n",
      "please  give a first name:rahmio\n",
      "\n",
      "please give a last name:rahman\n",
      "\n",
      " please give middle namehassan\n",
      "\t Neatly formatted name: Rahmio Rahman!\n",
      "\n",
      "please  give a first name:q\n"
     ]
    }
   ],
   "source": [
    "def get_formatted_name(first,last,middle):\n",
    "    if middle:\n",
    "        full_name = first + ' ' + middle + ' '+last\n",
    "    else:\n",
    "        full_name = first + ' ' + last\n",
    "    \n",
    "    return full_name.title()\n",
    "while True:\n",
    "        first=input(\"\\nplease  give a first name:\")\n",
    "        if first== 'q':\n",
    "            break\n",
    "        last = input(\"\\nplease give a last name:\")\n",
    "        if last == 'q':\n",
    "            break\n",
    "        middle=input(\"\\n please give middle name:\")\n",
    "        if middle =='q':\n",
    "            break\n",
    "        \n",
    "        formatted_name = get_formatted_name(first,last,middle='')\n",
    "        print(\"\\t Neatly formatted name: \" + formatted_name + \"!\")"
   ]
  },
  {
   "cell_type": "code",
   "execution_count": 4,
   "metadata": {},
   "outputs": [
    {
     "name": "stdout",
     "output_type": "stream",
     "text": [
      "entet 'q' any time to quit\n",
      "\n",
      "please  give a first name:rahmio\n",
      "\n",
      "please give a last name:rahman\n",
      "\t Neatly formatted name: Rahmio Rahman!\n",
      "\n",
      "please  give a first name:q\n"
     ]
    },
    {
     "name": "stderr",
     "output_type": "stream",
     "text": [
      "E\n",
      "======================================================================\n",
      "ERROR: C:\\Users\\HASSAN\\AppData\\Roaming\\jupyter\\runtime\\kernel-c6f3c052-ba8d-4995-8d5f-22cc16712fa2 (unittest.loader._FailedTest)\n",
      "----------------------------------------------------------------------\n",
      "AttributeError: module '__main__' has no attribute 'C:\\Users\\HASSAN\\AppData\\Roaming\\jupyter\\runtime\\kernel-c6f3c052-ba8d-4995-8d5f-22cc16712fa2'\n",
      "\n",
      "----------------------------------------------------------------------\n",
      "Ran 1 test in 0.004s\n",
      "\n",
      "FAILED (errors=1)\n"
     ]
    },
    {
     "ename": "SystemExit",
     "evalue": "True",
     "output_type": "error",
     "traceback": [
      "An exception has occurred, use %tb to see the full traceback.\n",
      "\u001b[1;31mSystemExit\u001b[0m\u001b[1;31m:\u001b[0m True\n"
     ]
    },
    {
     "name": "stderr",
     "output_type": "stream",
     "text": [
      "C:\\Users\\HASSAN\\Anaconda3\\lib\\site-packages\\IPython\\core\\interactiveshell.py:3334: UserWarning: To exit: use 'exit', 'quit', or Ctrl-D.\n",
      "  warn(\"To exit: use 'exit', 'quit', or Ctrl-D.\", stacklevel=1)\n"
     ]
    }
   ],
   "source": [
    "import unittest\n",
    "from function_name import get_formatted_name\n",
    "class NameTestCase(unittest.TestCase):\n",
    "    def test_first_middle_last(self):\n",
    "        formatted_name=get_formatted_name('rahmio','rahman')\n",
    "        self.assertEqual(formatted_name,'rahmio rahman')\n",
    "unittest.main()"
   ]
  },
  {
   "cell_type": "code",
   "execution_count": null,
   "metadata": {},
   "outputs": [],
   "source": [
    "from survey import anonymousSurvey\n",
    "2\n",
    "#define a question and make a survey\n",
    "3\n",
    "question = \"what language did you first learn to speak?\"\n",
    "4\n",
    "my_Survey = anonymousSurvey(question)\n",
    "5\n",
    "#show the question and store responses to the question\n",
    "6\n",
    "my_survey.show_question()\n",
    "7\n",
    "print(\"Enter 'q' at anytime to quit.\\n\")\n",
    "8\n",
    "while True:\n",
    "9\n",
    "      response = input(\"language:\")\n",
    "10\n",
    "      if response == 'q':\n",
    "11\n",
    "          break\n"
   ]
  },
  {
   "cell_type": "code",
   "execution_count": null,
   "metadata": {},
   "outputs": [],
   "source": []
  }
 ],
 "metadata": {
  "kernelspec": {
   "display_name": "Python 3",
   "language": "python",
   "name": "python3"
  },
  "language_info": {
   "codemirror_mode": {
    "name": "ipython",
    "version": 3
   },
   "file_extension": ".py",
   "mimetype": "text/x-python",
   "name": "python",
   "nbconvert_exporter": "python",
   "pygments_lexer": "ipython3",
   "version": "3.7.4"
  }
 },
 "nbformat": 4,
 "nbformat_minor": 2
}
