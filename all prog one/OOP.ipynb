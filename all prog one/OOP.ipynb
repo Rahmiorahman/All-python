{
 "cells": [
  {
   "cell_type": "code",
   "execution_count": 1,
   "metadata": {},
   "outputs": [],
   "source": [
    "class Robot:\n",
    "    def __init__(self,name,colour,weight):\n",
    "        self.name = name\n",
    "        self.colour = colour\n",
    "        self.weight = weight\n",
    "        \n",
    "    def introduce_self(self):\n",
    "        print(\"My name is \" + self.name)\n",
    "        "
   ]
  },
  {
   "cell_type": "code",
   "execution_count": 2,
   "metadata": {},
   "outputs": [],
   "source": [
    "r1 = Robot(\"tom\",\"red\",30)\n",
    "r2 = Robot(\"jerry\",\"blue\",40)"
   ]
  },
  {
   "cell_type": "code",
   "execution_count": 6,
   "metadata": {},
   "outputs": [],
   "source": [
    "class Person:\n",
    "    def __init__(self,n,p,i):\n",
    "        self.name = n\n",
    "        self.personality = p\n",
    "        self.is_sitting = i\n",
    "    \n",
    "    def sit_down(self):\n",
    "        self.is_sitting = True\n",
    "        \n",
    "    def stand_up(self):\n",
    "        self.is_sitting = False"
   ]
  },
  {
   "cell_type": "code",
   "execution_count": 7,
   "metadata": {},
   "outputs": [],
   "source": [
    "p1 =Person(\"alice\",\"aggressive\",False)\n",
    "p2 =Person(\"beky\",\"talkative\",True)"
   ]
  },
  {
   "cell_type": "code",
   "execution_count": 8,
   "metadata": {},
   "outputs": [],
   "source": [
    "p1.Robot_owed = r2\n",
    "p2.Robot_owed = r1"
   ]
  },
  {
   "cell_type": "code",
   "execution_count": null,
   "metadata": {},
   "outputs": [],
   "source": []
  },
  {
   "cell_type": "code",
   "execution_count": 3,
   "metadata": {},
   "outputs": [],
   "source": [
    "#CREATING AND USING A CLASS\n",
    "#CREATING THE DOG CLASS\n",
    "class Dog():\n",
    "\n",
    "    def __init__(self,name,age):\n",
    "        self.name = name\n",
    "        self.age = age\n",
    "    def sit(self):\n",
    "        print(self.name.title() + \" is now sitting\")\n",
    "    def roll_over(self):\n",
    "        print(self.name.title()  + \" rolled over\")"
   ]
  },
  {
   "cell_type": "code",
   "execution_count": 4,
   "metadata": {},
   "outputs": [
    {
     "name": "stdout",
     "output_type": "stream",
     "text": [
      "my dog name is Willie \n",
      "my dog is 6 years old\n",
      "Willie  is now sitting\n",
      "Willie  rolled over\n"
     ]
    }
   ],
   "source": [
    "#MAKING AN INSTANCE FROM A CLASS\n",
    "class Dog:\n",
    "    my_dog= Dog('willie ',6)\n",
    "    your_dog=Dog('lukias',9)\n",
    "    print(\"my dog name is \" + my_dog.name.title())\n",
    "    print(\"my dog is \" + str(my_dog.age) + \" years old\")\n",
    "    \n",
    "    \n",
    "    #CALLING METHOD\n",
    "    my_dog.sit()\n",
    "    \n",
    "    my_dog.roll_over()"
   ]
  },
  {
   "cell_type": "code",
   "execution_count": 5,
   "metadata": {},
   "outputs": [
    {
     "ename": "TypeError",
     "evalue": "Dog() takes no arguments",
     "output_type": "error",
     "traceback": [
      "\u001b[1;31m---------------------------------------------------------------------------\u001b[0m",
      "\u001b[1;31mTypeError\u001b[0m                                 Traceback (most recent call last)",
      "\u001b[1;32m<ipython-input-5-86aa7937c37b>\u001b[0m in \u001b[0;36m<module>\u001b[1;34m\u001b[0m\n\u001b[0;32m      1\u001b[0m \u001b[1;31m#creating multple instances\u001b[0m\u001b[1;33m\u001b[0m\u001b[1;33m\u001b[0m\u001b[1;33m\u001b[0m\u001b[0m\n\u001b[0;32m      2\u001b[0m \u001b[1;33m\u001b[0m\u001b[0m\n\u001b[1;32m----> 3\u001b[1;33m \u001b[1;32mclass\u001b[0m \u001b[0mDog\u001b[0m\u001b[1;33m:\u001b[0m\u001b[1;33m\u001b[0m\u001b[1;33m\u001b[0m\u001b[0m\n\u001b[0m\u001b[0;32m      4\u001b[0m     \u001b[0mmy_dog\u001b[0m\u001b[1;33m=\u001b[0m \u001b[0mDog\u001b[0m\u001b[1;33m(\u001b[0m\u001b[1;34m'willie '\u001b[0m\u001b[1;33m,\u001b[0m\u001b[1;36m6\u001b[0m\u001b[1;33m)\u001b[0m\u001b[1;33m\u001b[0m\u001b[1;33m\u001b[0m\u001b[0m\n\u001b[0;32m      5\u001b[0m     \u001b[0myour_dog\u001b[0m \u001b[1;33m=\u001b[0m \u001b[0mDog\u001b[0m\u001b[1;33m(\u001b[0m\u001b[1;34m'lukis'\u001b[0m\u001b[1;33m,\u001b[0m\u001b[1;36m9\u001b[0m\u001b[1;33m)\u001b[0m\u001b[1;33m\u001b[0m\u001b[1;33m\u001b[0m\u001b[0m\n",
      "\u001b[1;32m<ipython-input-5-86aa7937c37b>\u001b[0m in \u001b[0;36mDog\u001b[1;34m()\u001b[0m\n\u001b[0;32m      2\u001b[0m \u001b[1;33m\u001b[0m\u001b[0m\n\u001b[0;32m      3\u001b[0m \u001b[1;32mclass\u001b[0m \u001b[0mDog\u001b[0m\u001b[1;33m:\u001b[0m\u001b[1;33m\u001b[0m\u001b[1;33m\u001b[0m\u001b[0m\n\u001b[1;32m----> 4\u001b[1;33m     \u001b[0mmy_dog\u001b[0m\u001b[1;33m=\u001b[0m \u001b[0mDog\u001b[0m\u001b[1;33m(\u001b[0m\u001b[1;34m'willie '\u001b[0m\u001b[1;33m,\u001b[0m\u001b[1;36m6\u001b[0m\u001b[1;33m)\u001b[0m\u001b[1;33m\u001b[0m\u001b[1;33m\u001b[0m\u001b[0m\n\u001b[0m\u001b[0;32m      5\u001b[0m     \u001b[0myour_dog\u001b[0m \u001b[1;33m=\u001b[0m \u001b[0mDog\u001b[0m\u001b[1;33m(\u001b[0m\u001b[1;34m'lukis'\u001b[0m\u001b[1;33m,\u001b[0m\u001b[1;36m9\u001b[0m\u001b[1;33m)\u001b[0m\u001b[1;33m\u001b[0m\u001b[1;33m\u001b[0m\u001b[0m\n\u001b[0;32m      6\u001b[0m     \u001b[0mprint\u001b[0m\u001b[1;33m(\u001b[0m\u001b[1;34m\"my dog name is \"\u001b[0m \u001b[1;33m+\u001b[0m \u001b[0mmy_dog\u001b[0m\u001b[1;33m.\u001b[0m\u001b[0mname\u001b[0m\u001b[1;33m.\u001b[0m\u001b[0mtitle\u001b[0m\u001b[1;33m(\u001b[0m\u001b[1;33m)\u001b[0m\u001b[1;33m)\u001b[0m\u001b[1;33m\u001b[0m\u001b[1;33m\u001b[0m\u001b[0m\n",
      "\u001b[1;31mTypeError\u001b[0m: Dog() takes no arguments"
     ]
    }
   ],
   "source": [
    "#creating multple instances\n",
    "\n",
    "class Dog:\n",
    "    my_dog= Dog('willie ',6)\n",
    "    your_dog = Dog('lukis',9)\n",
    "    print(\"my dog name is \" + my_dog.name.title())\n",
    "    print(\"my dog is \" + str(my_dog.age) + \" years old\")\n",
    "    print(\"your dog name is \" + your_dog.name.title())\n",
    "    print(\"your dog is \"+ str(your_dog.age)+ \"years old\")\n",
    "    #CALLING METHOD\n",
    "    my_dog.sit()\n",
    "    \n",
    "    my_dog.roll_over()\n",
    "\n",
    "\n",
    "\n",
    "\n",
    "\n",
    "\n",
    "   \n",
    "    "
   ]
  },
  {
   "cell_type": "code",
   "execution_count": 8,
   "metadata": {},
   "outputs": [
    {
     "ename": "IndentationError",
     "evalue": "unexpected indent (<ipython-input-8-e0eaa3499fe2>, line 3)",
     "output_type": "error",
     "traceback": [
      "\u001b[1;36m  File \u001b[1;32m\"<ipython-input-8-e0eaa3499fe2>\"\u001b[1;36m, line \u001b[1;32m3\u001b[0m\n\u001b[1;33m    def __init__(self,make,model,year):\u001b[0m\n\u001b[1;37m    ^\u001b[0m\n\u001b[1;31mIndentationError\u001b[0m\u001b[1;31m:\u001b[0m unexpected indent\n"
     ]
    }
   ],
   "source": [
    "#WORKING WITH CLASSES AND INSTANCES\n",
    "#class Car():\n",
    "    def __init__(self,make,model,year):\n",
    "        self.make = make\n",
    "        self.model = model\n",
    "        self.year = year\n",
    "        self.odometer_reading = 0\n",
    "    def get_descriptive_name(self):\n",
    "        long_name = str(self.year) +' '+self.make+' '+self.model\n",
    "        return long_name.title()\n",
    "    def read_odometer(self):\n",
    "        print(\"This car has \"+ str(self.odometer_reading) + \" miles on it\")\n",
    "my_new_car=Car('audi','a5',2019)\n",
    "print(my_new_car.get_descriptive_name())\n",
    "my_new_car.odometer_reading=23\n",
    "my_new_car.read_odometer()"
   ]
  },
  {
   "cell_type": "code",
   "execution_count": 9,
   "metadata": {},
   "outputs": [
    {
     "name": "stdout",
     "output_type": "stream",
     "text": [
      "2019 Audi A5\n",
      "This car has 300 miles on it\n"
     ]
    }
   ],
   "source": [
    "class Car():\n",
    "    def __init__(self,make,model,year):\n",
    "        self.make = make\n",
    "        self.model = model\n",
    "        self.year = year\n",
    "        self.odometer_reading = 100\n",
    "    def get_descriptive_name(self):\n",
    "        long_name = str(self.year) +' '+self.make+' '+self.model\n",
    "        return long_name.title()\n",
    "    def read_odometer(self):\n",
    "        print(\"This car has \"+ str(self.odometer_reading) + \" miles on it\")\n",
    "    def update_odometer(self,mileage):\n",
    "        \n",
    "        if mileage>=self.odometer_reading:\n",
    "            self.odometer_reading = mileage\n",
    "        else:\n",
    "             print(\"you can't roll back an odometer\")\n",
    "my_new_car=Car('audi','a5',2019)\n",
    "print(my_new_car.get_descriptive_name())\n",
    "           \n",
    "#my_new_car.odometer_reading=245\n",
    "my_new_car.update_odometer(300)\n",
    "my_new_car.read_odometer()\n",
    " "
   ]
  },
  {
   "cell_type": "code",
   "execution_count": 10,
   "metadata": {},
   "outputs": [
    {
     "ename": "IndentationError",
     "evalue": "expected an indented block (<ipython-input-10-626880bf22dd>, line 11)",
     "output_type": "error",
     "traceback": [
      "\u001b[1;36m  File \u001b[1;32m\"<ipython-input-10-626880bf22dd>\"\u001b[1;36m, line \u001b[1;32m11\u001b[0m\n\u001b[1;33m    def __init__(self,make,model,year):\u001b[0m\n\u001b[1;37m      ^\u001b[0m\n\u001b[1;31mIndentationError\u001b[0m\u001b[1;31m:\u001b[0m expected an indented block\n"
     ]
    }
   ],
   "source": [
    "class Car():\n",
    "    def __init__(self,make,model,year):\n",
    "        self.make = make\n",
    "        self.model = model\n",
    "        self.year = year\n",
    "        self.odometer_reading = 100\n",
    "    def get_descriptive_name(self):\n",
    "        long_name = str(self.year) +' '+self.make+' '+self.model\n",
    "        return long_name.title()\n",
    "    def read_odometer():\n",
    "    def __init__(self,make,model,year):\n",
    "        self.make = make\n",
    "        self.model = model\n",
    "        self.year = year\n",
    "        self.odometer_reading = 100\n",
    "    def get_descriptive_name(self):\n",
    "        long_name = str(self.year) +' '+self.make+' '+self.model\n",
    "        return long_name.title()\n",
    "    def read_odometer(self):\n",
    "        print(\"This car has \"+ str(self.odometer_reading) + \" miles on it\")\n",
    "    def update_odometer(self,mileage):\n",
    "        \n",
    "        if mileage>=self.odometer_reading:\n",
    "            self.odometer_reading = mileage\n",
    "        else:\n",
    "             print(\"you can't roll back an odometer\")\n",
    "    def increment_odometer(self,miles):\n",
    "        self.odometer_reading += miles\n",
    "my_new_car=Car('Tesla','model S',2019)\n",
    "print(my_new_car.get_descriptive_name())\n",
    "           \n",
    "#my_new_car.odometer_reading=245\n",
    "my_new_car.update_odometer(300)\n",
    "my_new_car.read_odometer()\n",
    "my_new_car.increment_odometer(100)\n",
    "my_new_car.read_odometer() self):\n",
    "        print(\"This car has \"+ str(self.odometer_reading) + \" miles on it\")\n",
    "    def update_odometer(self,mileage):\n",
    "        \n",
    "        if mileage>=self.odometer_reading:\n",
    "            self.odometer_reading = mileage\n",
    "        else:\n",
    "             print(\"you can't roll back an odometer\")\n",
    "    def increment_odometer(self,miles):\n",
    "        self.odometer_reading += miles\n",
    "my_new_car=Car('Tesla','model S',2019)\n",
    "print(my_new_car.get_descriptive_name())\n",
    "           \n",
    "#my_new_car.odometer_reading=245\n",
    "my_new_car.update_odometer(300)\n",
    "my_new_car.read_odometer()\n",
    "my_new_car.increment_odometer(100)\n",
    "my_new_car.read_odometer() "
   ]
  },
  {
   "cell_type": "code",
   "execution_count": 15,
   "metadata": {},
   "outputs": [
    {
     "name": "stdout",
     "output_type": "stream",
     "text": [
      "This restaurant name is Alfraise\n",
      "The cuisine type is french\n",
      "None\n",
      "The Alfraise opens at 8.00\n",
      "The customers served are 12 in number\n"
     ]
    }
   ],
   "source": [
    "#EXERCISE PAGE 166 AND 171\n",
    "class Restaurant():\n",
    "    def __init__(self,name,cuisine):\n",
    "        self.name = name\n",
    "        self.cuisine = cuisine\n",
    "        self.number_served = 12\n",
    "    def describe_restaurant(self):\n",
    "        print(\"This restaurant name is \" + self.name.title())\n",
    "        print(\"The cuisine type is \" + self.cuisine)\n",
    "    def open_restaurant(self):\n",
    "        print(\"The \"+ self.name.title() +\" opens at 8.00\")\n",
    "    def set_number_served(self):\n",
    "        print(\"The customers served are \" + str(self.number_served) + \" in number\")\n",
    "    \n",
    "    \n",
    "new_restaurant = Restaurant('alfraise','french')\n",
    "print(new_restaurant.describe_restaurant())\n",
    "new_restaurant.open_restaurant()\n",
    "new_restaurant.set_number_served()"
   ]
  },
  {
   "cell_type": "code",
   "execution_count": 16,
   "metadata": {
    "scrolled": true
   },
   "outputs": [
    {
     "ename": "IndentationError",
     "evalue": "expected an indented block (<ipython-input-16-671c87028701>, line 23)",
     "output_type": "error",
     "traceback": [
      "\u001b[1;36m  File \u001b[1;32m\"<ipython-input-16-671c87028701>\"\u001b[1;36m, line \u001b[1;32m23\u001b[0m\n\u001b[1;33m    class electricCar(Car):\u001b[0m\n\u001b[1;37m        ^\u001b[0m\n\u001b[1;31mIndentationError\u001b[0m\u001b[1;31m:\u001b[0m expected an indented block\n"
     ]
    }
   ],
   "source": [
    "#CLASS INHERITANCE\n",
    "class Car():\n",
    "    def __init__(self,make,model,year):\n",
    "        self.make = make\n",
    "        self.model = model\n",
    "        self.year = year\n",
    "        self.odometer_reading = 100\n",
    "    def get_descriptive_name(self):\n",
    "        long_name = str(self.year) +' '+self.make+' '+self.model\n",
    "        return long_name.title()\n",
    "    def read_odometer(self):\n",
    "        print(\"This car has \"+ str(self.odometer_reading) + \" miles on it\")\n",
    "    def update_odometer(self,mileage):\n",
    "        \n",
    "        if mileage>=self.odometer_reading:\n",
    "            self.odometer_reading = mileage\n",
    "        else:\n",
    "             print(\"you can't roll back an odometer\")\n",
    "    def increment_odometer(self,miles):\n",
    "        self.odometer_reading += miles\n",
    "class Battery():\n",
    "    \n",
    "class electricCar(Car):  \n",
    "    \"\"\"represent aspect of a car,specific to electric vehicles\"\"\"\n",
    "    def __init__(self,make,model,year):\n",
    "        \"\"\"initialise attributes of the parent class\"\"\"\n",
    "        super().__init__(make,model,year)\n",
    "        self.battery_size = 70\n",
    "    def describe_battery(self):\n",
    "        \"\"\"print a ststement decribing the battery size\"\"\"\n",
    "        print(\"This car has a \" + str(self.battery_size)+ \"-Kwh battery\")        \n",
    "            \n",
    "my_tesla=electricCar('Tesla','model S',2020)\n",
    "print(my_tesla.get_descriptive_name())\n",
    "my_tesla.describe_battery()\n",
    "\n",
    "           \n"
   ]
  },
  {
   "cell_type": "code",
   "execution_count": 17,
   "metadata": {},
   "outputs": [
    {
     "name": "stdout",
     "output_type": "stream",
     "text": [
      "2020 Tesla Model S\n",
      "This car has a 70-Kwh battery\n",
      "This can go approximately 240Miles on a full charge\n"
     ]
    }
   ],
   "source": [
    "class Car():\n",
    "    def __init__(self,make,model,year):\n",
    "        self.make = make\n",
    "        self.model = model\n",
    "        self.year = year\n",
    "        self.odometer_reading = 100\n",
    "    def get_descriptive_name(self):\n",
    "        long_name = str(self.year) +' '+self.make+' '+self.model\n",
    "        return long_name.title()\n",
    "    def read_odometer(self):\n",
    "        print(\"This car has \"+ str(self.odometer_reading) + \" miles on it\")\n",
    "    def update_odometer(self,mileage):\n",
    "        \n",
    "        if mileage>=self.odometer_reading:\n",
    "            self.odometer_reading = mileage\n",
    "        else:\n",
    "             print(\"you can't roll back an odometer\")\n",
    "    def increment_odometer(self,miles):\n",
    "        self.odometer_reading += miles\n",
    "class Battery():\n",
    "    def __init__(self,battery_size=70):\n",
    "        \n",
    "        self.battery_size = battery_size\n",
    "        \n",
    "    def describe_battery(self):\n",
    "        \"\"\"print a ststement decribing the battery size\"\"\"\n",
    "        print(\"This car has a \" + str(self.battery_size)+ \"-Kwh battery\")\n",
    "    def get_range(self):\n",
    "        \"\"\"print a statement about the range this battery provide\"\"\"\n",
    "        if self.battery_size == 70:\n",
    "            range = 240\n",
    "        elif self.battery_size == 85:\n",
    "            range =275\n",
    "        message = \"This can go approximately \" + str(range)\n",
    "        message += \"Miles on a full charge\"\n",
    "        print(message)\n",
    "        \n",
    "class electricCar(Car):  \n",
    "    \"\"\"represent aspect of a car,specific to electric vehicles\"\"\"\n",
    "    def __init__(self,make,model,year):\n",
    "        \"\"\"initialise attributes of the parent class\"\"\"\n",
    "        super().__init__(make,model,year)\n",
    "        self.battery = Battery()\n",
    "my_tesla=electricCar('Tesla','model S',2020)\n",
    "print(my_tesla.get_descriptive_name())\n",
    "my_tesla.battery.describe_battery()        \n",
    "my_tesla.battery.get_range()\n",
    "            "
   ]
  },
  {
   "cell_type": "code",
   "execution_count": null,
   "metadata": {},
   "outputs": [],
   "source": []
  }
 ],
 "metadata": {
  "kernelspec": {
   "display_name": "Python 3",
   "language": "python",
   "name": "python3"
  },
  "language_info": {
   "codemirror_mode": {
    "name": "ipython",
    "version": 3
   },
   "file_extension": ".py",
   "mimetype": "text/x-python",
   "name": "python",
   "nbconvert_exporter": "python",
   "pygments_lexer": "ipython3",
   "version": "3.7.4"
  }
 },
 "nbformat": 4,
 "nbformat_minor": 2
}
