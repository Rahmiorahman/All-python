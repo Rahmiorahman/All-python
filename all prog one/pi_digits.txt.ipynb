{
 "cells": [
  {
   "cell_type": "code",
   "execution_count": 16,
   "metadata": {},
   "outputs": [
    {
     "name": "stdout",
     "output_type": "stream",
     "text": [
      "3.12353789\n",
      "  78989080\n",
      "  56788999\n"
     ]
    }
   ],
   "source": [
    "with open(\"newfile.txt\") as file_object:\n",
    "    content=file_object.read()\n",
    "    print(content.rstrip())\n"
   ]
  },
  {
   "cell_type": "code",
   "execution_count": 20,
   "metadata": {},
   "outputs": [
    {
     "name": "stdout",
     "output_type": "stream",
     "text": [
      "3.12353789\n",
      "  78989080\n",
      "  56788999\n"
     ]
    }
   ],
   "source": [
    "#READING LINE BY LINE\n",
    "filename='newfile.txt'\n",
    "with open(filename) as file_object:\n",
    "    for line in file_object:\n",
    "        #print(line)\n",
    "        print(line.rstrip())"
   ]
  },
  {
   "cell_type": "code",
   "execution_count": 21,
   "metadata": {},
   "outputs": [
    {
     "name": "stdout",
     "output_type": "stream",
     "text": [
      "3.12353789\n",
      "  78989080\n",
      "  56788999\n"
     ]
    }
   ],
   "source": [
    "#MAKING A LIST OF LINES FROM A FILE\n",
    "filename='newfile.txt'\n",
    "with open(filename) as file_object:\n",
    "    lines = file_object.readlines()\n",
    "for line in lines:\n",
    "        \n",
    "        print(line.rstrip())"
   ]
  },
  {
   "cell_type": "code",
   "execution_count": null,
   "metadata": {},
   "outputs": [],
   "source": []
  }
 ],
 "metadata": {
  "kernelspec": {
   "display_name": "Python 3",
   "language": "python",
   "name": "python3"
  },
  "language_info": {
   "codemirror_mode": {
    "name": "ipython",
    "version": 3
   },
   "file_extension": ".py",
   "mimetype": "text/x-python",
   "name": "python",
   "nbconvert_exporter": "python",
   "pygments_lexer": "ipython3",
   "version": "3.7.4"
  }
 },
 "nbformat": 4,
 "nbformat_minor": 2
}
