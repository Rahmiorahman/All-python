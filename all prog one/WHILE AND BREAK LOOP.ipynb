{
 "cells": [
  {
   "cell_type": "code",
   "execution_count": 1,
   "metadata": {},
   "outputs": [
    {
     "name": "stdout",
     "output_type": "stream",
     "text": [
      "10\n"
     ]
    }
   ],
   "source": [
    "total2 = 0\n",
    "j = 1\n",
    "while j < 5:\n",
    "    total2 += j #if   interchange the equal and add SIGN the ans is 4\n",
    "    j += 1\n",
    "print(total2)"
   ]
  },
  {
   "cell_type": "code",
   "execution_count": 2,
   "metadata": {},
   "outputs": [
    {
     "name": "stdout",
     "output_type": "stream",
     "text": [
      "17\n"
     ]
    }
   ],
   "source": [
    "given_list = [5,4,4,3,1,-1,-2,3,-4]\n",
    "total = 0\n",
    "i = 0\n",
    "while given_list[i] > 0:\n",
    "    total += given_list[i]\n",
    "    i += 1\n",
    "print(total)\n",
    "\n"
   ]
  },
  {
   "cell_type": "code",
   "execution_count": 3,
   "metadata": {},
   "outputs": [
    {
     "name": "stdout",
     "output_type": "stream",
     "text": [
      "10\n"
     ]
    }
   ],
   "source": [
    "given_list2 = [5,4,3,2,1]\n",
    "total3 = 0\n",
    "i = 1\n",
    "while i < len(given_list2) and given_list2[i] > 0:\n",
    "    total3 += given_list2[i]\n",
    "    i += 1\n",
    "print(total3)\n"
   ]
  },
  {
   "cell_type": "code",
   "execution_count": 4,
   "metadata": {},
   "outputs": [
    {
     "name": "stdout",
     "output_type": "stream",
     "text": [
      "17\n"
     ]
    }
   ],
   "source": [
    "given_list3 = [5,4,4,3,1,-1,2,3,-4]\n",
    "total4 = 0\n",
    "for element in given_list3:\n",
    "    if element <= 0:\n",
    "        break\n",
    "    total4 += element\n",
    "print(total4)"
   ]
  },
  {
   "cell_type": "code",
   "execution_count": 5,
   "metadata": {},
   "outputs": [
    {
     "name": "stdout",
     "output_type": "stream",
     "text": [
      "1\n",
      "2\n",
      "3\n",
      "4\n",
      "5\n"
     ]
    }
   ],
   "source": [
    "initial_number = 1\n",
    "while initial_number <= 5:\n",
    "    print(initial_number)\n",
    "    initial_number += 1\n",
    "\n",
    "    \n",
    "    \n",
    "    "
   ]
  },
  {
   "cell_type": "code",
   "execution_count": null,
   "metadata": {},
   "outputs": [],
   "source": [
    "prompt=\"\\ntell me something and i will repeat it to you \"\n",
    "prompt += \"\\n enter quit to end the program \"\n",
    "message = \"\" \n",
    "\n",
    "while message != \"quit\":\n",
    "    message = input(prompt)\n",
    "    print(message)"
   ]
  },
  {
   "cell_type": "code",
   "execution_count": null,
   "metadata": {},
   "outputs": [],
   "source": [
    "prompt=\"\\ntell me something and i will repeat it to you \"\n",
    "prompt += \"\\n enter quit to end the program \"\n",
    "\n",
    "active = True\n",
    "while active:\n",
    "    message = input(prompt)\n",
    "    if message == 'quit':\n",
    "        active = False\n",
    "    else: \n",
    "        print(message)\n",
    "    "
   ]
  },
  {
   "cell_type": "code",
   "execution_count": 9,
   "metadata": {},
   "outputs": [
    {
     "name": "stdout",
     "output_type": "stream",
     "text": [
      "\n",
      "tell me something and i will repeat it to you \n",
      " enter quit to end the program nairobi\n",
      "i love to go toNairobi!\n",
      "\n",
      "tell me something and i will repeat it to you \n",
      " enter quit to end the program qit\n",
      "i love to go toQit!\n",
      "\n",
      "tell me something and i will repeat it to you \n",
      " enter quit to end the program quit\n"
     ]
    }
   ],
   "source": [
    "while True:\n",
    "    city = input(prompt)\n",
    "    if city == 'quit':\n",
    "        break\n",
    "    else:\n",
    "        print(\"i love to go to \" + city.title() + \"!\")\n",
    "    \n"
   ]
  },
  {
   "cell_type": "code",
   "execution_count": 7,
   "metadata": {},
   "outputs": [
    {
     "name": "stdout",
     "output_type": "stream",
     "text": [
      "1\n",
      "3\n",
      "5\n"
     ]
    }
   ],
   "source": [
    "x= 1\n",
    "\n",
    "while x <= 5:\n",
    "    print(x)\n",
    "    x += 2\n",
    "    "
   ]
  },
  {
   "cell_type": "code",
   "execution_count": 1,
   "metadata": {},
   "outputs": [
    {
     "name": "stdout",
     "output_type": "stream",
     "text": [
      "Verifying user: Hassan\n",
      "\n",
      " the following users have beem comfirmed: \n",
      "Hassan\n",
      "Verifying user: Rolex\n",
      "\n",
      " the following users have beem comfirmed: \n",
      "Hassan\n",
      "Rolex\n",
      "Verifying user: Alice\n",
      "\n",
      " the following users have beem comfirmed: \n",
      "Hassan\n",
      "Rolex\n",
      "Alice\n"
     ]
    }
   ],
   "source": [
    "#MOVING ITEM FROM ONE LIST TO ANOTHER\n",
    "unconfirmed_users = ['Alice','Rolex','Hassan']\n",
    "confirmed_users = []\n",
    "#verify each user untill there no uncomfirmed_user\n",
    "#move each verified user into the list of comfirmed user\n",
    "while unconfirmed_users:\n",
    "    current_user = unconfirmed_users.pop()\n",
    "    print(\"Verifying user: \" + current_user.title())\n",
    "    confirmed_users.append(current_user)\n",
    "    #Display all the comfirmesd user \n",
    "    print(\"\\n the following users have beem comfirmed: \")\n",
    "   \n",
    "    for confirmed_user in confirmed_users:\n",
    "        print(confirmed_user.title())"
   ]
  },
  {
   "cell_type": "code",
   "execution_count": null,
   "metadata": {},
   "outputs": [],
   "source": [
    "pets = ['dog','cat','dog','dolphin','cat','rabit','cat','cat']\n",
    "print(pets)\n",
    "while 'cat' in pets:\n",
    "    pets.remove('cat')\n",
    "    print(pets)"
   ]
  },
  {
   "cell_type": "code",
   "execution_count": 1,
   "metadata": {},
   "outputs": [
    {
     "name": "stdout",
     "output_type": "stream",
     "text": [
      "\n",
      " what is your name ?RAHMIO\n",
      "\n",
      " which mountain would you like to climb somedayEVAREST\n",
      "Would you like to let another person respond?(yes/no)YES\n",
      "\n",
      " what is your name ?HASSAN\n",
      "\n",
      " which mountain would you like to climb somedayMT KENYA\n",
      "Would you like to let another person respond?(yes/no)no\n",
      "\n",
      "---polling result---\n",
      "RAHMIOwould you like to climbMT KENYA.\n",
      "HASSANwould you like to climbMT KENYA.\n"
     ]
    }
   ],
   "source": [
    "responses = {}\n",
    "#set the flag to indicate the polling is active\n",
    "polling_active = True\n",
    "\n",
    "\n",
    "while polling_active:\n",
    "    \n",
    "    #prompt for the persons name and response\n",
    "    name = input(\"\\n what is your name ?\")\n",
    "    response = input(\"\\n which mountain would you like to climb someday\")\n",
    "    #store the response into the dictionary\n",
    "    responses[name] = response\n",
    "    #find out if any one else is going to take the poll\n",
    "    repeat= input(\"Would you like to let another person respond?(yes/no)\")\n",
    "    if repeat == 'no':\n",
    "        polling_active = False\n",
    "     #polling is complete,showthe result of thel  poll\n",
    "print(\"\\n---polling result---\")\n",
    "for name,reponse in responses.items():\n",
    "    print(name + \"would you like to climb\" + response + \".\")"
   ]
  },
  {
   "cell_type": "code",
   "execution_count": null,
   "metadata": {},
   "outputs": [],
   "source": []
  },
  {
   "cell_type": "code",
   "execution_count": null,
   "metadata": {},
   "outputs": [],
   "source": []
  }
 ],
 "metadata": {
  "celltoolbar": "Raw Cell Format",
  "kernelspec": {
   "display_name": "Python 3",
   "language": "python",
   "name": "python3"
  },
  "language_info": {
   "codemirror_mode": {
    "name": "ipython",
    "version": 3
   },
   "file_extension": ".py",
   "mimetype": "text/x-python",
   "name": "python",
   "nbconvert_exporter": "python",
   "pygments_lexer": "ipython3",
   "version": "3.7.4"
  }
 },
 "nbformat": 4,
 "nbformat_minor": 2
}
