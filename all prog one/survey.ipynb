{
 "cells": [
  {
   "cell_type": "code",
   "execution_count": 4,
   "metadata": {},
   "outputs": [],
   "source": [
    "#class test\n",
    "class anonymousSurvey():\n",
    "    \"\"\"collect anonymoous answers to a survey question.\"\"\"\n",
    "    def __init__(self,question):\n",
    "        \"\"\"store questions and prepare to store responses\"\"\"\n",
    "        self.question = question\n",
    "        self.response = []\n",
    "    def show_question(self):\n",
    "        \"\"\"show the survey question\"\"\"\n",
    "        print(question)\n",
    "    def store_response(self,new_response):\n",
    "        \"\"\"store a singe response to a survye\"\"\"\n",
    "        self.response.append(new_response)\n",
    "    def show_result(self):\n",
    "        \"\"\"show all response that have been given\"\"\"\n",
    "        print(\"survey result\")\n",
    "        for response in responses:\n",
    "            print('-' + response)"
   ]
  },
  {
   "cell_type": "code",
   "execution_count": 7,
   "metadata": {},
   "outputs": [
    {
     "name": "stderr",
     "output_type": "stream",
     "text": [
      "E\n",
      "======================================================================\n",
      "ERROR: C:\\Users\\HASSAN\\AppData\\Roaming\\jupyter\\runtime\\kernel-ebbf300b-49b2-461c-80e1-496815716450 (unittest.loader._FailedTest)\n",
      "----------------------------------------------------------------------\n",
      "AttributeError: module '__main__' has no attribute 'C:\\Users\\HASSAN\\AppData\\Roaming\\jupyter\\runtime\\kernel-ebbf300b-49b2-461c-80e1-496815716450'\n",
      "\n",
      "----------------------------------------------------------------------\n",
      "Ran 1 test in 0.028s\n",
      "\n",
      "FAILED (errors=1)\n"
     ]
    },
    {
     "ename": "SystemExit",
     "evalue": "True",
     "output_type": "error",
     "traceback": [
      "An exception has occurred, use %tb to see the full traceback.\n",
      "\u001b[1;31mSystemExit\u001b[0m\u001b[1;31m:\u001b[0m True\n"
     ]
    },
    {
     "name": "stderr",
     "output_type": "stream",
     "text": [
      "C:\\Users\\HASSAN\\Anaconda3\\lib\\site-packages\\IPython\\core\\interactiveshell.py:3334: UserWarning: To exit: use 'exit', 'quit', or Ctrl-D.\n",
      "  warn(\"To exit: use 'exit', 'quit', or Ctrl-D.\", stacklevel=1)\n"
     ]
    }
   ],
   "source": [
    "\n",
    "    "
   ]
  },
  {
   "cell_type": "code",
   "execution_count": null,
   "metadata": {},
   "outputs": [],
   "source": [
    "\n",
    "    "
   ]
  }
 ],
 "metadata": {
  "kernelspec": {
   "display_name": "Python 3",
   "language": "python",
   "name": "python3"
  },
  "language_info": {
   "codemirror_mode": {
    "name": "ipython",
    "version": 3
   },
   "file_extension": ".py",
   "mimetype": "text/x-python",
   "name": "python",
   "nbconvert_exporter": "python",
   "pygments_lexer": "ipython3",
   "version": "3.7.4"
  }
 },
 "nbformat": 4,
 "nbformat_minor": 2
}
