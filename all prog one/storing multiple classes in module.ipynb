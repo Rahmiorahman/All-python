{
 "cells": [
  {
   "cell_type": "code",
   "execution_count": 11,
   "metadata": {},
   "outputs": [
    {
     "name": "stdout",
     "output_type": "stream",
     "text": [
      "2020 Chevrolet Slc200\n",
      "This car has a 70-Kwh battery\n",
      "This can go approximately 240Miles on a full charge\n"
     ]
    }
   ],
   "source": [
    "from car import electricCar\n",
    "my_chevrolet = electricCar('chevrolet','slc200',2020)\n",
    "print(my_chevrolet.get_descriptive_name())\n",
    "my_chevrolet.battery.describe_battery()\n",
    "my_chevrolet.battery.get_range()"
   ]
  },
  {
   "cell_type": "code",
   "execution_count": null,
   "metadata": {},
   "outputs": [],
   "source": []
  }
 ],
 "metadata": {
  "kernelspec": {
   "display_name": "Python 3",
   "language": "python",
   "name": "python3"
  },
  "language_info": {
   "codemirror_mode": {
    "name": "ipython",
    "version": 3
   },
   "file_extension": ".py",
   "mimetype": "text/x-python",
   "name": "python",
   "nbconvert_exporter": "python",
   "pygments_lexer": "ipython3",
   "version": "3.7.4"
  }
 },
 "nbformat": 4,
 "nbformat_minor": 2
}
