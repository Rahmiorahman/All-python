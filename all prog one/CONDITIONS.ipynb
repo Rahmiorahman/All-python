{
 "cells": [
  {
   "cell_type": "code",
   "execution_count": null,
   "metadata": {},
   "outputs": [],
   "source": [
    "a=1\n",
    "b=2\n",
    "\n",
    "if a < b:\n",
    "    print('a is less than b') \n",
    " \n",
    "    print('b is not less than a')\n"
   ]
  },
  {
   "cell_type": "code",
   "execution_count": null,
   "metadata": {},
   "outputs": [],
   "source": [
    "c=6\n",
    "d=4\n",
    "if 4 < 6:\n",
    "    print(\"c is less than d\")\n",
    "else:\n",
    "    print(\"c is not less than d\")\n",
    "    \n"
   ]
  },
  {
   "cell_type": "code",
   "execution_count": null,
   "metadata": {},
   "outputs": [],
   "source": [
    "age=17\n",
    "if age>=18:\n",
    "    print('You are old enough to vote')\n",
    "    print(\"Are you old enough to vote?\")\n",
    "else:\n",
    "    print(\"You are too old enough to vote\")"
   ]
  },
  {
   "cell_type": "code",
   "execution_count": null,
   "metadata": {},
   "outputs": [],
   "source": [
    "age=12\n",
    "if age<4:\n",
    "    price=0\n",
    "elif age<18:\n",
    "    price=5\n",
    "else:\n",
    "    price=10\n",
    "print(\"your admission cost is $\" + str(price) + \".\")\n"
   ]
  },
  {
   "cell_type": "code",
   "execution_count": null,
   "metadata": {},
   "outputs": [],
   "source": [
    "alienColour = ['green','yellow','red']\n",
    "if 'green' in alienColour:\n",
    "    print(\"The player just add 5 point\")"
   ]
  },
  {
   "cell_type": "code",
   "execution_count": null,
   "metadata": {},
   "outputs": [],
   "source": [
    "user_input=input(\"enter 1 or 2:\")\n",
    "if user_input==\"1\":\n",
    "    print(\"rahmio\")\n",
    "    print(\"hassan\")\n",
    "elif user_input==\"2\":\n",
    "    print(\"python\")\n",
    "    print(\"java\")\n",
    "else:\n",
    "    print(\"You did not enter an a valid number\")"
   ]
  },
  {
   "cell_type": "code",
   "execution_count": null,
   "metadata": {},
   "outputs": [],
   "source": []
  },
  {
   "cell_type": "code",
   "execution_count": null,
   "metadata": {},
   "outputs": [],
   "source": [
    "user_input=input(\"enter 1 or 2:\")\n",
    "if user_input==\"1\":\n",
    "    print(\"rahmio\")\n",
    "    print(\"hassan\")\n",
    "elif user_input==\"2\":\n",
    "    print(\"python\")\n",
    "    print(\"java\")\n",
    "else:\n",
    "    print(\"You did not enter an a valid number\")"
   ]
  },
  {
   "cell_type": "code",
   "execution_count": null,
   "metadata": {},
   "outputs": [],
   "source": [
    "e=20\n",
    "f=7\n",
    "if e<f:\n",
    "    print('e is less than f')\n",
    "elif e==f:\n",
    "    print('e is equal to f')\n",
    "elif e > f + 10:\n",
    "    print(\"e is greater than f by 10 \")\n",
    "    \n",
    "else:\n",
    "    print('e is greater than f')\n"
   ]
  },
  {
   "cell_type": "code",
   "execution_count": null,
   "metadata": {},
   "outputs": [],
   "source": [
    "h=12\n",
    "g=9\n",
    "if g < h :\n",
    "    print(\"g is less than h\")\n",
    "else:\n",
    "    if g == h:\n",
    "        print(\"g is equal to h\")\n",
    "        else: \n",
    "            print(\"g is greater than h\")"
   ]
  },
  {
   "cell_type": "code",
   "execution_count": null,
   "metadata": {},
   "outputs": [],
   "source": [
    "name=\"RR\"\n",
    "weight_kg = 90\n",
    "height_m = 2\n",
    "bmi = weight_kg / (height_m **2)\n",
    "print(\"bmi:\")\n",
    "print(bmi)\n",
    "if bmi < 25:\n",
    "    print(name)\n",
    "    print(\"not over weight\")\n",
    "else:\n",
    "        print(name)\n",
    "        print(\"overweight\")\n",
    "        \n",
    "    "
   ]
  },
  {
   "cell_type": "code",
   "execution_count": null,
   "metadata": {},
   "outputs": [],
   "source": [
    "print('FOR LOOP')"
   ]
  },
  {
   "cell_type": "code",
   "execution_count": null,
   "metadata": {},
   "outputs": [],
   "source": [
    "a= ('banana','apple' ,'mango')#one can also use square bracket\n",
    "\n",
    "\n",
    "                              \n",
    "for fruits in a:\n",
    "    print(fruits)\n",
    "    print(fruits)\n",
    "    print(fruits)"
   ]
  },
  {
   "cell_type": "code",
   "execution_count": null,
   "metadata": {},
   "outputs": [],
   "source": [
    "b = (10,12,20)\n",
    "total=0\n",
    "for element in b:\n",
    "      total=total+element  \n",
    "print(total) \n",
    " \n",
    "    \n"
   ]
  },
  {
   "cell_type": "code",
   "execution_count": null,
   "metadata": {},
   "outputs": [],
   "source": [
    "#1,2,3,4\n",
    "\n",
    "c=list(range(1,5))\n",
    "print(c)"
   ]
  },
  {
   "cell_type": "code",
   "execution_count": null,
   "metadata": {},
   "outputs": [],
   "source": [
    "total2 = 0\n",
    "for i in range(1, 5):\n",
    "    total2 += i\n",
    "\n",
    "print(total2)"
   ]
  },
  {
   "cell_type": "code",
   "execution_count": null,
   "metadata": {},
   "outputs": [],
   "source": [
    "print(list(range(1, 24)))"
   ]
  },
  {
   "cell_type": "code",
   "execution_count": null,
   "metadata": {},
   "outputs": [],
   "source": [
    "total3 = 0           #compile total multiple of three\n",
    "for i in range(1,24):\n",
    "    if i % 3 == 0:\n",
    "        total3 += i\n",
    "print(total3)"
   ]
  },
  {
   "cell_type": "code",
   "execution_count": null,
   "metadata": {},
   "outputs": [],
   "source": [
    "#can you compute all mulltples of 3,5\n",
    "#that are less than 100?\n",
    "print(list(range(1,100)))"
   ]
  },
  {
   "cell_type": "code",
   "execution_count": null,
   "metadata": {},
   "outputs": [],
   "source": [
    "total = 0\n",
    "for i in range(1,100): \n",
    "    if i % 3 == 0 or i % 5 == 0:  \n",
    "        total += i \n",
    "print(total)\n",
    "\n",
    "\n"
   ]
  },
  {
   "cell_type": "code",
   "execution_count": null,
   "metadata": {},
   "outputs": [],
   "source": [
    "sum(set(list(range(0,100,3))))+(sum(set(list(range(0,100,5)))))"
   ]
  },
  {
   "cell_type": "code",
   "execution_count": null,
   "metadata": {},
   "outputs": [],
   "source": [
    "total4=0\n",
    "for a in range(0,100):\n",
    "    if a % 3 == 0:\n",
    "        total4 += a\n",
    "print(total4)"
   ]
  },
  {
   "cell_type": "code",
   "execution_count": null,
   "metadata": {},
   "outputs": [],
   "source": [
    "total5=0\n",
    "for s in range(1,100):\n",
    "    if s % 5 == 0:\n",
    "        total5 += s\n",
    "print(total5)"
   ]
  },
  {
   "cell_type": "code",
   "execution_count": 2,
   "metadata": {},
   "outputs": [
    {
     "ename": "TypeError",
     "evalue": "unsupported operand type(s) for %: 'int' and 'list'",
     "output_type": "error",
     "traceback": [
      "\u001b[1;31m---------------------------------------------------------------------------\u001b[0m",
      "\u001b[1;31mTypeError\u001b[0m                                 Traceback (most recent call last)",
      "\u001b[1;32m<ipython-input-2-ada934ccb8ac>\u001b[0m in \u001b[0;36m<module>\u001b[1;34m\u001b[0m\n\u001b[0;32m      1\u001b[0m \u001b[0mtotal6\u001b[0m\u001b[1;33m=\u001b[0m\u001b[1;36m0\u001b[0m\u001b[1;33m\u001b[0m\u001b[1;33m\u001b[0m\u001b[0m\n\u001b[0;32m      2\u001b[0m \u001b[1;32mfor\u001b[0m \u001b[0mf\u001b[0m \u001b[1;32min\u001b[0m \u001b[0mrange\u001b[0m\u001b[1;33m(\u001b[0m\u001b[1;36m1\u001b[0m\u001b[1;33m,\u001b[0m\u001b[1;36m100\u001b[0m\u001b[1;33m)\u001b[0m\u001b[1;33m:\u001b[0m\u001b[1;33m\u001b[0m\u001b[1;33m\u001b[0m\u001b[0m\n\u001b[1;32m----> 3\u001b[1;33m     \u001b[1;32mif\u001b[0m  \u001b[0mf\u001b[0m\u001b[1;33m%\u001b[0m\u001b[1;33m[\u001b[0m\u001b[1;36m3\u001b[0m\u001b[1;33m,\u001b[0m\u001b[1;36m5\u001b[0m\u001b[1;33m]\u001b[0m \u001b[1;33m==\u001b[0m \u001b[1;36m0\u001b[0m\u001b[1;33m:\u001b[0m\u001b[1;33m\u001b[0m\u001b[1;33m\u001b[0m\u001b[0m\n\u001b[0m\u001b[0;32m      4\u001b[0m         \u001b[0mtotal6\u001b[0m \u001b[1;33m+=\u001b[0m \u001b[0mf\u001b[0m\u001b[1;33m\u001b[0m\u001b[1;33m\u001b[0m\u001b[0m\n\u001b[0;32m      5\u001b[0m \u001b[0mprintL\u001b[0m\u001b[1;33m(\u001b[0m\u001b[0mtotal6\u001b[0m\u001b[1;33m)\u001b[0m\u001b[1;33m\u001b[0m\u001b[1;33m\u001b[0m\u001b[0m\n",
      "\u001b[1;31mTypeError\u001b[0m: unsupported operand type(s) for %: 'int' and 'list'"
     ]
    }
   ],
   "source": [
    "total6=0\n",
    "for f in range(1,100):\n",
    "    if  f%[3,5] == 0:\n",
    "        total6 += f\n",
    "printL(total6)        \n",
    "        \n",
    "    "
   ]
  },
  {
   "cell_type": "code",
   "execution_count": 3,
   "metadata": {},
   "outputs": [
    {
     "name": "stdout",
     "output_type": "stream",
     "text": [
      "Rahmio, that was a great trick!\n",
      "I can't wait to see your next trick, Rahmio\n",
      "\n",
      "Hassan, that was a great trick!\n",
      "I can't wait to see your next trick, Hassan\n",
      "\n",
      " Ali, that was a great trick!\n",
      "I can't wait to see your next trick,  Ali\n",
      "\n",
      "Thank you everyone that was a great show\n"
     ]
    }
   ],
   "source": [
    "magicians=['rahmio','hassan' ,' ali']\n",
    "for magician in magicians:\n",
    "    \n",
    "    print(magician.title() + \", that was a great trick!\")\n",
    "    print(\"I can't wait to see your next trick, \" + magician.title() + \"\\n\")\n",
    "\n",
    "print(\"Thank you everyone that was a great show\")"
   ]
  },
  {
   "cell_type": "code",
   "execution_count": 4,
   "metadata": {},
   "outputs": [
    {
     "name": "stdout",
     "output_type": "stream",
     "text": [
      "Tiger, is a cat family\n",
      "One of the fastes animal is the Tiger\n",
      "\n",
      "Cheater, is a cat family\n",
      "One of the fastes animal is the Cheater\n",
      "\n",
      "Lion, is a cat family\n",
      "One of the fastes animal is the Lion\n",
      "\n"
     ]
    }
   ],
   "source": [
    "animals=['tiger','cheater','lion']\n",
    "for a in animals:\n",
    "    print(a.title() + ', is a cat family')\n",
    "    print( \"One of the fastes animal is the \" + a.title() + \"\\n\" )"
   ]
  },
  {
   "cell_type": "code",
   "execution_count": 38,
   "metadata": {},
   "outputs": [
    {
     "name": "stdout",
     "output_type": "stream",
     "text": [
      "0 cat\n",
      "1 dogs\n",
      "2 rabbit\n",
      "3 hamester\n"
     ]
    }
   ],
   "source": [
    "pets = ['cat','dogs','rabbit','hamester'] #enumerate function to index(to  number the animals)\n",
    "for index, mypet in enumerate(pets):\n",
    "    print(index,mypet)\n",
    "        "
   ]
  },
  {
   "cell_type": "code",
   "execution_count": null,
   "metadata": {},
   "outputs": [],
   "source": []
  }
 ],
 "metadata": {
  "kernelspec": {
   "display_name": "Python 3",
   "language": "python",
   "name": "python3"
  },
  "language_info": {
   "codemirror_mode": {
    "name": "ipython",
    "version": 3
   },
   "file_extension": ".py",
   "mimetype": "text/x-python",
   "name": "python",
   "nbconvert_exporter": "python",
   "pygments_lexer": "ipython3",
   "version": "3.7.4"
  }
 },
 "nbformat": 4,
 "nbformat_minor": 2
}
