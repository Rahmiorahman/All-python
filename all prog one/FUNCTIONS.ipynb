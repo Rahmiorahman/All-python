{
 "cells": [
  {
   "cell_type": "code",
   "execution_count": null,
   "metadata": {},
   "outputs": [],
   "source": []
  },
  {
   "cell_type": "code",
   "execution_count": 79,
   "metadata": {},
   "outputs": [
    {
     "name": "stdout",
     "output_type": "stream",
     "text": [
      "this is outside the cell\n"
     ]
    }
   ],
   "source": [
    "def function():\n",
    "    print(\"Am trying\")\n",
    "    print(\"do it\")\n",
    "print(\"this is outside the cell\")"
   ]
  },
  {
   "cell_type": "code",
   "execution_count": 80,
   "metadata": {},
   "outputs": [
    {
     "name": "stdout",
     "output_type": "stream",
     "text": [
      "Am trying\n",
      "do it\n",
      "Am trying\n",
      "do it\n"
     ]
    }
   ],
   "source": [
    "function()\n",
    "function()"
   ]
  },
  {
   "cell_type": "code",
   "execution_count": null,
   "metadata": {},
   "outputs": [],
   "source": [
    "#mapping\n",
    "#input or an argument\n",
    "def function1(x):\n",
    "    return 2*x\n",
    "    \n",
    "    "
   ]
  },
  {
   "cell_type": "code",
   "execution_count": null,
   "metadata": {},
   "outputs": [],
   "source": [
    " function1(7)"
   ]
  },
  {
   "cell_type": "code",
   "execution_count": null,
   "metadata": {},
   "outputs": [],
   "source": [
    "function1(13)"
   ]
  },
  {
   "cell_type": "code",
   "execution_count": null,
   "metadata": {},
   "outputs": [],
   "source": [
    "b = function1(12)\n",
    "print(b)"
   ]
  },
  {
   "cell_type": "code",
   "execution_count": null,
   "metadata": {},
   "outputs": [],
   "source": [
    "def numbers(x,y,):\n",
    "    return x * y\n",
    "    "
   ]
  },
  {
   "cell_type": "code",
   "execution_count": null,
   "metadata": {},
   "outputs": [],
   "source": [
    "numbers(2,3)\n"
   ]
  },
  {
   "cell_type": "code",
   "execution_count": null,
   "metadata": {},
   "outputs": [],
   "source": [
    "def function2(x):\n",
    "    print(x)\n",
    "    print(\"Stilll in this function\")\n",
    "    return 3*x\n",
    "    "
   ]
  },
  {
   "cell_type": "code",
   "execution_count": null,
   "metadata": {},
   "outputs": [],
   "source": [
    "function2(4)\n"
   ]
  },
  {
   "cell_type": "code",
   "execution_count": null,
   "metadata": {},
   "outputs": [],
   "source": [
    "#BMI CALCULATOR\n",
    "name1 = \"rahmio\"\n",
    "height_m1 = 2\n",
    "weight_kg1 = 90\n",
    "\n",
    "name2 = \"hamdi\"\n",
    "height_m2 = 1.8\n",
    "weight_kg2 = 180\n",
    "\n",
    "name3 = \" rahma\"\n",
    "height_m3 = 2.5\n",
    "weight_kg3 = 170\n"
   ]
  },
  {
   "cell_type": "code",
   "execution_count": null,
   "metadata": {},
   "outputs": [],
   "source": [
    "def bmi_calculator(name,height_m,weight_kg):\n",
    "    bmi = weight_kg / (height_m ** 2)\n",
    "    print(\"bmi\")\n",
    "    print(bmi)\n",
    "    if bmi < 25:\n",
    "        return name + \"is not overweight\"\n",
    "    else:\n",
    "        return name + \"is overweight\"\n",
    "    "
   ]
  },
  {
   "cell_type": "code",
   "execution_count": null,
   "metadata": {},
   "outputs": [],
   "source": [
    "result1 = bmi_calculator(name1,height_m1,weight_kg1)\n",
    "result2 = bmi_calculator(name2,height_m2,weight_kg2)\n",
    "result3 = bmi_calculator(name3,height_m3,weight_kg3)\n"
   ]
  },
  {
   "cell_type": "code",
   "execution_count": null,
   "metadata": {},
   "outputs": [],
   "source": []
  },
  {
   "cell_type": "code",
   "execution_count": 55,
   "metadata": {},
   "outputs": [],
   "source": [
    "def great_user(username):\n",
    "    \"\"\"Display a simple greetings\"\"\"\n",
    "    print(\"hello \" + username.title() + \"!\")\n",
    "   #JESSE IS AN ARGUMENT THAT WAS PASSED TO FUNCTION GREAT USER\n",
    "  #AND THE VALUE WAS STORED IN THE PARAMETER USERNAME\n",
    "   #PEOPLE SOMETIME SPEAK OF ARGUMENT AND PARAMETER INERCHANGEABLY \n"
   ]
  },
  {
   "cell_type": "code",
   "execution_count": 56,
   "metadata": {},
   "outputs": [
    {
     "name": "stdout",
     "output_type": "stream",
     "text": [
      "hello Rahmio!\n",
      "hello Jesse!\n",
      "hello Username!\n"
     ]
    }
   ],
   "source": [
    " great_user('Rahmio')\n",
    " great_user('JESSE')\n",
    " great_user('USERNAME')\n"
   ]
  },
  {
   "cell_type": "code",
   "execution_count": 35,
   "metadata": {},
   "outputs": [
    {
     "name": "stdout",
     "output_type": "stream",
     "text": [
      "\n",
      "I have a cat.\n",
      "My cat's name is Doll\n",
      "\n",
      "I have a dog.\n",
      "My dog's name is Hanl\n"
     ]
    }
   ],
   "source": [
    "#postion an argument\n",
    "def describe_pet(animal_type,pet_name):\n",
    "    print(\"\\nI have a \" + animal_type + \".\")\n",
    "    print(\"My \"+ animal_type + \"'s name is \" + pet_name.title())\n",
    "describe_pet('cat','doll')\n",
    "describe_pet('dog','hanl') #multifunction argument\n",
    "\n",
    "#order matter in function"
   ]
  },
  {
   "cell_type": "code",
   "execution_count": 57,
   "metadata": {},
   "outputs": [
    {
     "name": "stdout",
     "output_type": "stream",
     "text": [
      "i have a dog.\n",
      "My dog's name is Hanl\n"
     ]
    }
   ],
   "source": [
    "def describe_pet(animal_type = 'dog',pet_name ='hanl'):#A keyword is a name value that pair that you pass to a functions\n",
    "                                                        #you directly associate the name and the value within the argument \n",
    "    print(\"i have a \"+animal_type + \".\")\n",
    "    print(\"My \" + animal_type + \"'s name is \" + pet_name.title())\n",
    "describe_pet('dog','hanl')\n",
    "     "
   ]
  },
  {
   "cell_type": "code",
   "execution_count": null,
   "metadata": {},
   "outputs": [],
   "source": [
    "def check_prime(number_check):\n",
    "    for x in range(2,number_check):\n",
    "        if number_check%x == 0:\n",
    "            return False\n",
    "        else:\n",
    "            return True"
   ]
  },
  {
   "cell_type": "code",
   "execution_count": null,
   "metadata": {},
   "outputs": [],
   "source": [
    "check_prime(13)"
   ]
  },
  {
   "cell_type": "code",
   "execution_count": 29,
   "metadata": {},
   "outputs": [
    {
     "name": "stdout",
     "output_type": "stream",
     "text": [
      "i have a dog.\n",
      "My dog's name is Wily\n"
     ]
    }
   ],
   "source": [
    "def describe_pet(pet_name ,animal_type='dog'):\n",
    "    print(\"i have a \"+animal_type + \".\")\n",
    "    print(\"My \" + animal_type + \"'s name is \" + pet_name.title())\n",
    "describe_pet('wily')\n",
    "     "
   ]
  },
  {
   "cell_type": "code",
   "execution_count": null,
   "metadata": {},
   "outputs": [],
   "source": [
    "def get_formatted_name(first_name,last_name):\n",
    "    \"\"\"return a full name ,neatly formatted.\"\"\"\n",
    "    full_name = first_name + ' '+ last_name\n",
    "    return full_name.title()\n",
    "musician = get_formatted_name('jane','hendrix')\n",
    "print(musician)\n"
   ]
  },
  {
   "cell_type": "code",
   "execution_count": null,
   "metadata": {},
   "outputs": [],
   "source": [
    "def get_formatted_name(first_name,last_name,middle_name=''):\n",
    "    \"\"\"return a full_name ,neatly formatted.\"\"\"\n",
    "    if middle_name:\n",
    "        full_name = first_name + ' '+ middle_name + ' '+ last_name \n",
    "    else:\n",
    "        full_name = first_name + ' '+ last_name   \n",
    "          \n",
    "    return full_name.title()   \n",
    "musician = get_formatted_name('richard','von')\n",
    "print(musician)\n",
    "musician = get_formatted_name('richard','Royce','Rolls')\n",
    "print(musician)"
   ]
  },
  {
   "cell_type": "code",
   "execution_count": null,
   "metadata": {},
   "outputs": [],
   "source": [
    "#returning dictionary\n",
    "def build_person(first_name,last_name):\n",
    "    person = {'first':first_name,  'last':last_name}\n",
    "    return person\n",
    "build_person('Rolls','Royce')"
   ]
  },
  {
   "cell_type": "code",
   "execution_count": 101,
   "metadata": {},
   "outputs": [
    {
     "name": "stdout",
     "output_type": "stream",
     "text": [
      "{'first': 'rolls', 'last': 'royce', 'age': 21}\n"
     ]
    }
   ],
   "source": [
    "def build_person(first_name,last_name,age = ''):\n",
    "    \"\"\"return dictionary of information about person\"\"\"\n",
    "    person = {'first':first_name,  'last':last_name}\n",
    "    if age:\n",
    "        person['age']=age\n",
    "    return person\n",
    "muscian =  build_person('rolls','royce',age =21) \n",
    "print(muscian)"
   ]
  },
  {
   "cell_type": "code",
   "execution_count": null,
   "metadata": {},
   "outputs": [],
   "source": [
    "#USING A FUNCTION WITH A WHILE LOOP\n",
    "def get_formatted_name(first_name,last_name):\n",
    "    \"\"\"return a full name ,neatly formatted.\"\"\"\n",
    "    full_name = first_name + ' '+ last_name\n",
    "    return full_name.title()\n",
    "\n",
    "#THIS IS AN INFINITE LOOP\n",
    "while True:\n",
    "    print(\"\\nplease tell me your name:\")\n",
    "    f_name =input(\"first_name:\")\n",
    "    l_name = input(\"last_name:\")\n",
    "    formatted_name = get_formatted_name(f_name,l_name)\n",
    "    print(\"\\nhello \" + formatted_name + \"!\")"
   ]
  },
  {
   "cell_type": "code",
   "execution_count": 30,
   "metadata": {},
   "outputs": [
    {
     "ename": "IndentationError",
     "evalue": "unexpected indent (<ipython-input-30-96579e367137>, line 15)",
     "output_type": "error",
     "traceback": [
      "\u001b[1;36m  File \u001b[1;32m\"<ipython-input-30-96579e367137>\"\u001b[1;36m, line \u001b[1;32m15\u001b[0m\n\u001b[1;33m    print(\"\\nhello \" + formatted_name + \"!\")\u001b[0m\n\u001b[1;37m    ^\u001b[0m\n\u001b[1;31mIndentationError\u001b[0m\u001b[1;31m:\u001b[0m unexpected indent\n"
     ]
    }
   ],
   "source": [
    "def get_formatted_name(first_name,last_name):\n",
    "    \"\"\"return a full name ,neatly formatted.\"\"\"\n",
    "    full_name = first_name + ' '+ last_name\n",
    "    return full_name.title()\n",
    "while True:\n",
    "    print(\"\\nplease tell me your name:\")\n",
    "    print(\"enter 'q'at any time to quit\")\n",
    "    f_name =input(\"first_name:\")\n",
    "    if f_name== 'q':\n",
    "        break\n",
    "    l_name = input(\"last_name:\")\n",
    "    if l_name == 'q':\n",
    "        break\n",
    "formatted_name = get_formatted_name(f_name,l_name)\n",
    "   print(\"\\nhello \" + formatted_name + \"!\")"
   ]
  },
  {
   "cell_type": "code",
   "execution_count": null,
   "metadata": {},
   "outputs": [],
   "source": [
    "#EXERCISE page 146\n",
    "def make_album(artist_name,album_title):\n",
    "    \n"
   ]
  },
  {
   "cell_type": "code",
   "execution_count": 89,
   "metadata": {},
   "outputs": [
    {
     "name": "stdout",
     "output_type": "stream",
     "text": [
      "Nairobi , Kenya\n",
      "Uganda , Kampala\n",
      " Uk  , London\n"
     ]
    }
   ],
   "source": [
    "#CITY COUNTRY exercise\n",
    "def city_country(city_name,country_name):\n",
    "    nation = city_name + ' , ' + country_name\n",
    "    print(nation.title())\n",
    "\n",
    "city_country(\"nairobi\",\"kenya\") \n",
    "city_country(\"uganda\",\"Kampala\")\n",
    "city_country(\" uk \",\"london\")\n"
   ]
  },
  {
   "cell_type": "code",
   "execution_count": null,
   "metadata": {},
   "outputs": [],
   "source": []
  },
  {
   "cell_type": "code",
   "execution_count": 2,
   "metadata": {},
   "outputs": [
    {
     "name": "stdout",
     "output_type": "stream",
     "text": [
      "hello Jane\n",
      "hello Rahmio\n",
      "hello Lupita\n"
     ]
    }
   ],
   "source": [
    "#PASSING LIST\n",
    "def greet_users(names):\n",
    "    for name in names:\n",
    "        msg = \"hello \" + name.title()\n",
    "        print(msg)\n",
    "usernames=['rahul','sahid','rahma']\n",
    "\n",
    "greet_users(usernames)"
   ]
  },
  {
   "cell_type": "code",
   "execution_count": 61,
   "metadata": {},
   "outputs": [
    {
     "name": "stdout",
     "output_type": "stream",
     "text": [
      "printing_design:dodecahedron\n",
      "printing_design:robot pendant\n",
      "printing_design:iphone case\n",
      "\n",
      "The following models have been printed:\n",
      "dodecahedron\n",
      "robot pendant\n",
      "iphone case\n"
     ]
    }
   ],
   "source": [
    "unprinted_designs =['iphone case','robot pendant','dodecahedron']\n",
    "completed_designs =[]\n",
    "\n",
    "while unprinted_designs:\n",
    "    current_design = unprinted_designs.pop()\n",
    "    print(\"printing_design:\" + current_design)\n",
    "    completed_designs.append(current_design)\n",
    "print(\"\\nThe following models have been printed:\")\n",
    "for completed_design in  completed_designs:\n",
    "        print(completed_design)"
   ]
  },
  {
   "cell_type": "code",
   "execution_count": 14,
   "metadata": {},
   "outputs": [
    {
     "name": "stdout",
     "output_type": "stream",
     "text": [
      "printing design:iphone case\n",
      "printing design:robot pendant\n",
      "printing design:dodecahedron\n",
      "\n",
      "The following model have been printed\n",
      "['iphone case', 'robot pendant', 'dodecahedron']\n",
      "['iphone case', 'robot pendant', 'dodecahedron']\n",
      "['iphone case', 'robot pendant', 'dodecahedron']\n"
     ]
    }
   ],
   "source": [
    "def print_models(unprinted_designs,completed_designs):\n",
    "    while unprinted_designs:\n",
    "        current_design = unprinted_designs.pop()\n",
    "        print(\"printing design:\" + current_design)\n",
    "        completed_designs.append(current_design)\n",
    "def show_completed_designs(completed_designs):\n",
    "    print(\"\\nThe following model have been printed\")\n",
    "    for completed_design in completed_designs:\n",
    "        print(completed_designs)\n",
    "unprinted_designs = ['dodecahedron','robot pendant','iphone case']\n",
    "completed_designs = []\n",
    "print_models(unprinted_designs,completed_designs)\n",
    "show_completed_designs(completed_designs)"
   ]
  },
  {
   "cell_type": "code",
   "execution_count": 8,
   "metadata": {},
   "outputs": [
    {
     "ename": "SyntaxError",
     "evalue": "invalid syntax (<ipython-input-8-0a0dd9fb301f>, line 2)",
     "output_type": "error",
     "traceback": [
      "\u001b[1;36m  File \u001b[1;32m\"<ipython-input-8-0a0dd9fb301f>\"\u001b[1;36m, line \u001b[1;32m2\u001b[0m\n\u001b[1;33m    def print_models(unprinted_designs[],completed_designs)\u001b[0m\n\u001b[1;37m                                      ^\u001b[0m\n\u001b[1;31mSyntaxError\u001b[0m\u001b[1;31m:\u001b[0m invalid syntax\n"
     ]
    }
   ],
   "source": [
    "#preventing a function from modifying a list\n"
   ]
  },
  {
   "cell_type": "code",
   "execution_count": 59,
   "metadata": {},
   "outputs": [
    {
     "name": "stdout",
     "output_type": "stream",
     "text": [
      "('pepperoni',)\n",
      "('musharoom', 'chease', 'green peppers')\n"
     ]
    }
   ],
   "source": [
    "def make_pizza(*toppings):\n",
    "    print(toppings)\n",
    "make_pizza('pepperoni')\n",
    "make_pizza('musharoom','chease','green peppers')\n"
   ]
  },
  {
   "cell_type": "code",
   "execution_count": 24,
   "metadata": {},
   "outputs": [
    {
     "name": "stdout",
     "output_type": "stream",
     "text": [
      "\n",
      " making pizza with the following toppings:\n",
      "-pepperoni\n",
      "\n",
      " making pizza with the following toppings:\n",
      "-musharoom\n",
      "-chease\n",
      "-green peppers\n"
     ]
    }
   ],
   "source": [
    "def make_pizza(*toppings):#syntax works no matter how many arguments the function receives\n",
    "    print(\"\\n making pizza with the following toppings:\")\n",
    "    for topping in toppings:\n",
    "        print(\"-\" + topping)\n",
    "        \n",
    "make_pizza('pepperoni')\n",
    "make_pizza('musharoom','chease','green peppers')   \n",
    "    "
   ]
  },
  {
   "cell_type": "code",
   "execution_count": 50,
   "metadata": {},
   "outputs": [
    {
     "name": "stdout",
     "output_type": "stream",
     "text": [
      "\n",
      " making a 12-inch pizza with the following topping:\n",
      "-pepperoni\n",
      "\n",
      " making a 21-inch pizza with the following topping:\n",
      "-mushroom\n",
      "-extra cheese\n",
      "-green pepper\n"
     ]
    }
   ],
   "source": [
    "#MIXING POSITION AND ARBITARY ARGUMENTdef make_pizza(*toppings):\n",
    "def make_pizza(size,*toppings):  \n",
    "    print(\"\\n making a \" + str(size) + \"-inch pizza with the following topping:\")\n",
    "    for topping in toppings:\n",
    "        print(\"-\" + topping)\n",
    "           \n",
    "make_pizza(12, 'pepperoni')\n",
    "make_pizza(21,'mushroom','extra cheese','green pepper')\n",
    "\n"
   ]
  },
  {
   "cell_type": "code",
   "execution_count": 76,
   "metadata": {},
   "outputs": [
    {
     "name": "stdout",
     "output_type": "stream",
     "text": [
      "{'first_name': 'albert', 'last_name': 'einstein', 'location': 'princeton', 'field': 'physics', 'country': 'switzerland'}\n"
     ]
    }
   ],
   "source": [
    "#USING ARBITARY KEYWORD ARGUMENTS\n",
    "def build_profile(first,last, **user_info):\n",
    "    profile = {}\n",
    "    profile['first_name']=first\n",
    "    profile['last_name']=last\n",
    "    for key,value in user_info.items():\n",
    "        profile[key] = value\n",
    "    return profile\n",
    "user_profile = build_profile ('albert','einstein',location='princeton',field='physics',country='switzerland')\n",
    "print(user_profile)\n"
   ]
  },
  {
   "cell_type": "code",
   "execution_count": 2,
   "metadata": {},
   "outputs": [
    {
     "name": "stdout",
     "output_type": "stream",
     "text": [
      "Making sandwitch using the following toppings:\n",
      "-salad\n",
      "-beef slice\n",
      "-mayonise\n"
     ]
    }
   ],
   "source": [
    "#EXERCISE\n",
    "def make_sandwitch(*toppings):\n",
    "    print(\"Making sandwitch using the following toppings:\")\n",
    "    for topping in toppings:\n",
    "        print(\"-\" + topping)\n",
    "make_sandwitch('salad','beef slice','mayonise')\n",
    "\n"
   ]
  },
  {
   "cell_type": "code",
   "execution_count": 7,
   "metadata": {},
   "outputs": [
    {
     "name": "stdout",
     "output_type": "stream",
     "text": [
      "making7-inch sandwitch with the following toppings: \n",
      "-extra cheese\n",
      "-salad\n",
      "-beef slide\n"
     ]
    }
   ],
   "source": [
    "#EXERCISE\n",
    "def make_sandwitch(size,*toppings):\n",
    "    print(\"making\" + str(size) + \"-inch sandwitch with the following toppings: \")\n",
    "    for topping in toppings:\n",
    "        print(\"-\" + topping)\n",
    "make_sandwitch(7,'extra cheese','salad','beef slide')"
   ]
  },
  {
   "cell_type": "code",
   "execution_count": 26,
   "metadata": {},
   "outputs": [
    {
     "data": {
      "text/plain": [
       "{'first_name': 'Abdirahman',\n",
       " 'last_name': 'hassan',\n",
       " 'location': 'pagani',\n",
       " 'city': 'Nairobi'}"
      ]
     },
     "execution_count": 26,
     "metadata": {},
     "output_type": "execute_result"
    }
   ],
   "source": [
    "#EXERCISE\n",
    "def build_profile(first_name,last_name,**user_profile):\n",
    "    profile = {}\n",
    "    profile['first_name']= first_name\n",
    "    profile['last_name']= last_name\n",
    "    for key,value in user_profile.items():\n",
    "        profile[key] = value\n",
    "    return profile    \n",
    "build_profile('Abdirahman','hassan',location = 'pagani',city= \"Nairobi\")\n",
    "        \n",
    "  "
   ]
  },
  {
   "cell_type": "code",
   "execution_count": null,
   "metadata": {},
   "outputs": [],
   "source": [
    "#STORING YOUR FUNCTION IN MODULE\n",
    "#IMPORT ALL FUNCTIONS IN A MODULE\n"
   ]
  },
  {
   "cell_type": "code",
   "execution_count": null,
   "metadata": {},
   "outputs": [],
   "source": []
  }
 ],
 "metadata": {
  "celltoolbar": "Raw Cell Format",
  "kernelspec": {
   "display_name": "Python 3",
   "language": "python",
   "name": "python3"
  },
  "language_info": {
   "codemirror_mode": {
    "name": "ipython",
    "version": 3
   },
   "file_extension": ".py",
   "mimetype": "text/x-python",
   "name": "python",
   "nbconvert_exporter": "python",
   "pygments_lexer": "ipython3",
   "version": "3.7.4"
  }
 },
 "nbformat": 4,
 "nbformat_minor": 2
}
